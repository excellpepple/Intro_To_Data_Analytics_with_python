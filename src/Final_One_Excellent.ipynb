{
 "cells": [
  {
   "cell_type": "code",
   "id": "initial_id",
   "metadata": {
    "collapsed": true,
    "ExecuteTime": {
     "end_time": "2025-05-08T15:42:00.705134Z",
     "start_time": "2025-05-08T15:42:00.700134Z"
    }
   },
   "source": [
    "import pandas as pd\n",
    "import numpy as np\n",
    "import matplotlib.pyplot as plt"
   ],
   "outputs": [],
   "execution_count": 81
  },
  {
   "metadata": {
    "ExecuteTime": {
     "end_time": "2025-05-08T15:42:00.787191Z",
     "start_time": "2025-05-08T15:42:00.767811Z"
    }
   },
   "cell_type": "code",
   "source": [
    "# Task 1\n",
    "customer_data = pd.read_csv(\"../resources/final/Customer_Info.csv\")\n",
    "sales_data = pd.read_csv(\"../resources/final/Sales_Info.csv\")"
   ],
   "id": "3adfddac57bafcda",
   "outputs": [],
   "execution_count": 82
  },
  {
   "metadata": {
    "ExecuteTime": {
     "end_time": "2025-05-08T15:42:00.823357Z",
     "start_time": "2025-05-08T15:42:00.801151Z"
    }
   },
   "cell_type": "code",
   "source": [
    "# Task 2\n",
    "# EDA on Customer Data\n",
    "print(customer_data.head())\n",
    "print()\n",
    "print(\"Description Of Customer Data\")\n",
    "print(customer_data.describe())\n",
    "print()\n",
    "print(\"Information Of Customer Data\")\n",
    "print(customer_data.info())\n",
    "print()\n",
    "missing_values = customer_data.isnull().sum()\n",
    "print(f\"Missing Values: \\n{missing_values}\")\n",
    "print()\n",
    "# finding duplicate values\n",
    "duplicate_values = customer_data.duplicated().sum()\n",
    "print(f\"Duplicate Values: {duplicate_values}\")"
   ],
   "id": "f6f2c53fe07a1dd",
   "outputs": [
    {
     "name": "stdout",
     "output_type": "stream",
     "text": [
      "   Customer_ID  Age Gender     Marital Status     Occupation  Monthly Income  \\\n",
      "0        16244   20      M             Single        Student               0   \n",
      "1        14688   18      M             Single        Student               1   \n",
      "2        13873   16      F             Single            NaN               1   \n",
      "3        13728   45      M  Prefer not to say       Employee               4   \n",
      "4        16771   58      F             Single  Self Employed               2   \n",
      "\n",
      "       Education              Location  \n",
      "0      Undergrad       Peoria-Illinois  \n",
      "1      Undergrad           Boise-Idaho  \n",
      "2    High School  Springfield-Illinois  \n",
      "3  Post Graduate           Boise-Idaho  \n",
      "4  Post Graduate    Fargo-North Dakota  \n",
      "\n",
      "Description Of Customer Data\n",
      "        Customer_ID         Age  Monthly Income\n",
      "count    403.000000  403.000000      403.000000\n",
      "mean   15325.258065   39.047146        2.131514\n",
      "std     1754.896474   14.755563        1.506231\n",
      "min    12350.000000   15.000000        0.000000\n",
      "25%    13821.500000   26.000000        1.000000\n",
      "50%    15235.000000   39.000000        2.000000\n",
      "75%    16996.000000   51.000000        3.000000\n",
      "max    18250.000000   65.000000        4.000000\n",
      "\n",
      "Information Of Customer Data\n",
      "<class 'pandas.core.frame.DataFrame'>\n",
      "RangeIndex: 403 entries, 0 to 402\n",
      "Data columns (total 8 columns):\n",
      " #   Column          Non-Null Count  Dtype \n",
      "---  ------          --------------  ----- \n",
      " 0   Customer_ID     403 non-null    int64 \n",
      " 1   Age             403 non-null    int64 \n",
      " 2   Gender          403 non-null    object\n",
      " 3   Marital Status  403 non-null    object\n",
      " 4   Occupation      392 non-null    object\n",
      " 5   Monthly Income  403 non-null    int64 \n",
      " 6   Education       351 non-null    object\n",
      " 7   Location        403 non-null    object\n",
      "dtypes: int64(3), object(5)\n",
      "memory usage: 25.3+ KB\n",
      "None\n",
      "\n",
      "Missing Values: \n",
      "Customer_ID        0\n",
      "Age                0\n",
      "Gender             0\n",
      "Marital Status     0\n",
      "Occupation        11\n",
      "Monthly Income     0\n",
      "Education         52\n",
      "Location           0\n",
      "dtype: int64\n",
      "\n",
      "Duplicate Values: 15\n"
     ]
    }
   ],
   "execution_count": 83
  },
  {
   "metadata": {
    "ExecuteTime": {
     "end_time": "2025-05-08T15:42:00.866269Z",
     "start_time": "2025-05-08T15:42:00.840780Z"
    }
   },
   "cell_type": "code",
   "source": [
    "# Task 2\n",
    "# EDA on Sales Data\n",
    "print(sales_data.head())\n",
    "print()\n",
    "print(\"Description Of Sales Data\")\n",
    "print(sales_data.describe())\n",
    "print()\n",
    "print(\"Information Of Sales Data\")\n",
    "print(sales_data.info())\n",
    "print()\n",
    "missing_values = customer_data.isnull().sum()\n",
    "print(f\"Missing Values: \\n{missing_values}\")\n",
    "print()\n",
    "# finding duplicate values\n",
    "duplicate_values = sales_data.duplicated().sum()\n",
    "print(f\"Duplicate Values: {duplicate_values}\")"
   ],
   "id": "e953d192518f6a3b",
   "outputs": [
    {
     "name": "stdout",
     "output_type": "stream",
     "text": [
      "   Customer_ID                                Product_Description  \\\n",
      "0        17372       Nest Learning Thermostat 3rd Gen-USA - White   \n",
      "1        17456  Google Men's 100% Cotton Short Sleeve Hero Tee...   \n",
      "2        15527             Nest Cam Outdoor Security Camera - USA   \n",
      "3        14606           Google 17oz Stainless Steel Sport Bottle   \n",
      "4        14413                                  YouTube Twill Cap   \n",
      "\n",
      "  Product_Category Quantity Unit_Price Delivery_Charges   Coupon  \\\n",
      "0         Nest-USA        1      149.0              6.0      NaN   \n",
      "1          Apparel        2      16.99              6.0      NaN   \n",
      "2         Nest-USA        1      119.0              6.0      NaN   \n",
      "3        Drinkware        1      16.79              6.0  EXTRA30   \n",
      "4          Apparel        5      10.99            19.99      NaN   \n",
      "\n",
      "   Discount_Rate  \n",
      "0            NaN  \n",
      "1           10.0  \n",
      "2           10.0  \n",
      "3           30.0  \n",
      "4           20.0  \n",
      "\n",
      "Description Of Sales Data\n",
      "        Customer_ID  Discount_Rate\n",
      "count   4587.000000    3191.000000\n",
      "mean   15294.903205      19.921655\n",
      "std     1758.925353       8.072563\n",
      "min    12347.000000      10.000000\n",
      "25%    13798.000000      10.000000\n",
      "50%    15288.000000      20.000000\n",
      "75%    16907.000000      30.000000\n",
      "max    18283.000000      30.000000\n",
      "\n",
      "Information Of Sales Data\n",
      "<class 'pandas.core.frame.DataFrame'>\n",
      "RangeIndex: 4587 entries, 0 to 4586\n",
      "Data columns (total 8 columns):\n",
      " #   Column               Non-Null Count  Dtype  \n",
      "---  ------               --------------  -----  \n",
      " 0   Customer_ID          4587 non-null   int64  \n",
      " 1   Product_Description  4587 non-null   object \n",
      " 2   Product_Category     4587 non-null   object \n",
      " 3   Quantity             4572 non-null   object \n",
      " 4   Unit_Price           4575 non-null   object \n",
      " 5   Delivery_Charges     4567 non-null   object \n",
      " 6   Coupon               1585 non-null   object \n",
      " 7   Discount_Rate        3191 non-null   float64\n",
      "dtypes: float64(1), int64(1), object(6)\n",
      "memory usage: 286.8+ KB\n",
      "None\n",
      "\n",
      "Missing Values: \n",
      "Customer_ID        0\n",
      "Age                0\n",
      "Gender             0\n",
      "Marital Status     0\n",
      "Occupation        11\n",
      "Monthly Income     0\n",
      "Education         52\n",
      "Location           0\n",
      "dtype: int64\n",
      "\n",
      "Duplicate Values: 47\n"
     ]
    }
   ],
   "execution_count": 84
  },
  {
   "metadata": {
    "ExecuteTime": {
     "end_time": "2025-05-08T15:42:00.949563Z",
     "start_time": "2025-05-08T15:42:00.941169Z"
    }
   },
   "cell_type": "code",
   "source": [
    "# task 3 Sentinel values\n",
    "customer_data.replace([\"?\", \" \"], np.nan, inplace=True)\n",
    "sales_data.replace([\"?\", \" \"], np.nan, inplace=True)\n"
   ],
   "id": "18ecabf43a00a2a6",
   "outputs": [],
   "execution_count": 85
  },
  {
   "metadata": {
    "ExecuteTime": {
     "end_time": "2025-05-08T15:42:00.988906Z",
     "start_time": "2025-05-08T15:42:00.975537Z"
    }
   },
   "cell_type": "code",
   "source": [
    "mask = sales_data.isnull()\n",
    "\n",
    "sales_data[\"Quantity\"] = sales_data[~mask][\"Quantity\"].astype(float)\n",
    "sales_data[\"Unit_Price\"] = sales_data[~mask][\"Unit_Price\"].astype(float)\n",
    "sales_data[\"Delivery_Charges\"] = sales_data[~mask][\"Delivery_Charges\"].astype(float)\n",
    "sales_data[\"Discount_Rate\"] = sales_data[~mask][\"Discount_Rate\"].astype(float)"
   ],
   "id": "2f8125740a3c8090",
   "outputs": [],
   "execution_count": 86
  },
  {
   "metadata": {
    "ExecuteTime": {
     "end_time": "2025-05-08T15:42:01.025593Z",
     "start_time": "2025-05-08T15:42:01.017508Z"
    }
   },
   "cell_type": "code",
   "source": [
    "#task 4\n",
    "customer_data = customer_data.drop_duplicates(subset=[\"Customer_ID\"])\n",
    "# finding duplicate values\n",
    "duplicate_values = customer_data.duplicated().sum()\n",
    "print(f\"Duplicate Values: {duplicate_values}\")"
   ],
   "id": "59c58034297dffff",
   "outputs": [
    {
     "name": "stdout",
     "output_type": "stream",
     "text": [
      "Duplicate Values: 0\n"
     ]
    }
   ],
   "execution_count": 87
  },
  {
   "metadata": {
    "ExecuteTime": {
     "end_time": "2025-05-08T15:42:01.052151Z",
     "start_time": "2025-05-08T15:42:01.038815Z"
    }
   },
   "cell_type": "code",
   "source": [
    "# Task 5.1\n",
    "missing_percent = (customer_data.isnull().sum() / len(customer_data)) * 100\n",
    "print(\"Before\")\n",
    "print(missing_percent)\n",
    "missing_percent.to_dict()\n",
    "for row, val in missing_percent.to_dict().items():\n",
    "    print(val)\n",
    "    if val > 20:\n",
    "        customer_data = customer_data.dropna()\n",
    "        break\n",
    "\n",
    "# customer_data = customer_data.drop(columns=missing_percent[missing_percent > 10].index)\n",
    "print(\"After\")\n",
    "print(missing_percent)\n",
    "\n",
    "\n",
    "# fill missing\n",
    "customer_data[\"Occupation\"] = customer_data[\"Occupation\"].fillna(\n",
    "    customer_data[\"Occupation\"].mode()[0]\n",
    ")\n",
    "missing_percent = (customer_data.isnull().sum() / len(customer_data)) * 100\n",
    "print(missing_percent)"
   ],
   "id": "14bed69e24f8f450",
   "outputs": [
    {
     "name": "stdout",
     "output_type": "stream",
     "text": [
      "Before\n",
      "Customer_ID        0.000000\n",
      "Age                0.000000\n",
      "Gender             0.000000\n",
      "Marital Status     0.000000\n",
      "Occupation         3.865979\n",
      "Monthly Income     0.000000\n",
      "Education         24.484536\n",
      "Location           0.000000\n",
      "dtype: float64\n",
      "0.0\n",
      "0.0\n",
      "0.0\n",
      "0.0\n",
      "3.865979381443299\n",
      "0.0\n",
      "24.484536082474225\n",
      "After\n",
      "Customer_ID        0.000000\n",
      "Age                0.000000\n",
      "Gender             0.000000\n",
      "Marital Status     0.000000\n",
      "Occupation         3.865979\n",
      "Monthly Income     0.000000\n",
      "Education         24.484536\n",
      "Location           0.000000\n",
      "dtype: float64\n",
      "Customer_ID       0.0\n",
      "Age               0.0\n",
      "Gender            0.0\n",
      "Marital Status    0.0\n",
      "Occupation        0.0\n",
      "Monthly Income    0.0\n",
      "Education         0.0\n",
      "Location          0.0\n",
      "dtype: float64\n"
     ]
    }
   ],
   "execution_count": 88
  },
  {
   "metadata": {
    "ExecuteTime": {
     "end_time": "2025-05-08T15:42:20.270838Z",
     "start_time": "2025-05-08T15:42:20.257704Z"
    }
   },
   "cell_type": "code",
   "source": [
    "# sales data\n",
    "missing_percent = (sales_data.isnull().sum() / len(sales_data)) * 100\n",
    "print(missing_percent)\n",
    "\n",
    "# fill missing\n",
    "sales_data[\"Quantity\"] = sales_data[\"Quantity\"].fillna(1)\n",
    "sales_data[\"Unit_Price\"] = sales_data[\"Unit_Price\"].fillna(sales_data.groupby('Product_Category')['Unit_Price'].transform('mean'))\n",
    "sales_data[\"Delivery_Charges\"] = sales_data[\"Delivery_Charges\"].fillna(\n",
    "    sales_data.groupby('Product_Category')['Delivery_Charges'].transform('mean')\n",
    ")\n",
    "missing_percent = (sales_data.isnull().sum() / len(sales_data)) * 100\n",
    "\n",
    "print(missing_percent)"
   ],
   "id": "1befcab64748d7b7",
   "outputs": [
    {
     "name": "stdout",
     "output_type": "stream",
     "text": [
      "Customer_ID             0.000000\n",
      "Product_Description     0.000000\n",
      "Product_Category        0.000000\n",
      "Quantity                0.000000\n",
      "Unit_Price              0.000000\n",
      "Delivery_Charges        0.000000\n",
      "Coupon                 65.445825\n",
      "Discount_Rate          30.433835\n",
      "dtype: float64\n",
      "Customer_ID             0.000000\n",
      "Product_Description     0.000000\n",
      "Product_Category        0.000000\n",
      "Quantity                0.000000\n",
      "Unit_Price              0.000000\n",
      "Delivery_Charges        0.000000\n",
      "Coupon                 65.445825\n",
      "Discount_Rate          30.433835\n",
      "dtype: float64\n"
     ]
    }
   ],
   "execution_count": 90
  },
  {
   "metadata": {
    "ExecuteTime": {
     "end_time": "2025-05-08T15:48:56.276197Z",
     "start_time": "2025-05-08T15:48:56.260818Z"
    }
   },
   "cell_type": "code",
   "source": [
    "#Task 6\n",
    "master_table = pd.merge(customer_data, sales_data, on=\"Customer_ID\", how=\"inner\")\n",
    "# print(master_table.head())\n",
    "\n",
    "master_table.to_csv(\"../resources/final/Merged_Data.csv\")"
   ],
   "id": "e2c462e849ce86ab",
   "outputs": [],
   "execution_count": 92
  }
 ],
 "metadata": {
  "kernelspec": {
   "display_name": "Python 3",
   "language": "python",
   "name": "python3"
  },
  "language_info": {
   "codemirror_mode": {
    "name": "ipython",
    "version": 2
   },
   "file_extension": ".py",
   "mimetype": "text/x-python",
   "name": "python",
   "nbconvert_exporter": "python",
   "pygments_lexer": "ipython2",
   "version": "2.7.6"
  }
 },
 "nbformat": 4,
 "nbformat_minor": 5
}
