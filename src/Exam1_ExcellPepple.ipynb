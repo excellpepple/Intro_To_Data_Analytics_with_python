{
 "cells": [
  {
   "cell_type": "code",
   "id": "initial_id",
   "metadata": {
    "collapsed": true,
    "ExecuteTime": {
     "end_time": "2025-03-25T19:14:08.025426Z",
     "start_time": "2025-03-25T19:14:05.299928Z"
    }
   },
   "source": [
    "\"\"\"\n",
    ":author: Excellent Willie-Pepple\n",
    "\"\"\"\n",
    "import pandas as pd\n",
    "import matplotlib as plt\n",
    "import numpy as np"
   ],
   "outputs": [],
   "execution_count": 2
  },
  {
   "metadata": {
    "ExecuteTime": {
     "end_time": "2025-03-25T19:14:24.925141Z",
     "start_time": "2025-03-25T19:14:24.913324Z"
    }
   },
   "cell_type": "code",
   "source": [
    "#Task1: Import data\n",
    "\n",
    "def get_columns(filename:str)-> [str]:\n",
    "    \"\"\"\n",
    "    Reads the first line of the given CSV file and returns a list of its column names.\n",
    "\n",
    "    Args:\n",
    "        filename (str): The path to the CSV file.\n",
    "\n",
    "    Returns:\n",
    "        [str]: A list of column names.\n",
    "    \"\"\"\n",
    "    with open(filename, 'r') as file:\n",
    "        line = [x.strip().split(\",\")[0] for x in file.readlines()]\n",
    "        return line\n",
    "\n",
    "\n",
    "column_names = get_columns(\"../resources/Airbnb/Airbnb_Data_Info.txt\")"
   ],
   "id": "ed62391d39dcab09",
   "outputs": [
    {
     "data": {
      "text/plain": [
       "['Room_ID',\n",
       " 'Room_Type',\n",
       " 'Address',\n",
       " 'Reviews',\n",
       " 'Satisfaction',\n",
       " 'Accommodates',\n",
       " 'Bedrooms',\n",
       " 'Bathrooms',\n",
       " 'Price',\n",
       " 'Latitude',\n",
       " 'Longitude']"
      ]
     },
     "execution_count": 3,
     "metadata": {},
     "output_type": "execute_result"
    }
   ],
   "execution_count": 3
  },
  {
   "metadata": {
    "ExecuteTime": {
     "end_time": "2025-03-25T19:17:07.053073Z",
     "start_time": "2025-03-25T19:17:07.024697Z"
    }
   },
   "cell_type": "code",
   "source": [
    "airbnb_data = pd.ExcelFile(\"../resources/Airbnb/Airbnb_Data.csv\")\n",
    "airbnb_data"
   ],
   "id": "8f515f8e1c61e0eb",
   "outputs": [
    {
     "ename": "ValueError",
     "evalue": "Excel file format cannot be determined, you must specify an engine manually.",
     "output_type": "error",
     "traceback": [
      "\u001B[1;31m---------------------------------------------------------------------------\u001B[0m",
      "\u001B[1;31mValueError\u001B[0m                                Traceback (most recent call last)",
      "Cell \u001B[1;32mIn[5], line 1\u001B[0m\n\u001B[1;32m----> 1\u001B[0m airbnb_data \u001B[38;5;241m=\u001B[39m pd\u001B[38;5;241m.\u001B[39mExcelFile(\u001B[38;5;124m\"\u001B[39m\u001B[38;5;124m../resources/Airbnb/Airbnb_Data.csv\u001B[39m\u001B[38;5;124m\"\u001B[39m)\n\u001B[0;32m      2\u001B[0m airbnb_data\n",
      "File \u001B[1;32m~\\.conda\\envs\\Intro_To_Data_Analytics_with_python\\Lib\\site-packages\\pandas\\io\\excel\\_base.py:1554\u001B[0m, in \u001B[0;36mExcelFile.__init__\u001B[1;34m(self, path_or_buffer, engine, storage_options, engine_kwargs)\u001B[0m\n\u001B[0;32m   1550\u001B[0m     ext \u001B[38;5;241m=\u001B[39m inspect_excel_format(\n\u001B[0;32m   1551\u001B[0m         content_or_path\u001B[38;5;241m=\u001B[39mpath_or_buffer, storage_options\u001B[38;5;241m=\u001B[39mstorage_options\n\u001B[0;32m   1552\u001B[0m     )\n\u001B[0;32m   1553\u001B[0m     \u001B[38;5;28;01mif\u001B[39;00m ext \u001B[38;5;129;01mis\u001B[39;00m \u001B[38;5;28;01mNone\u001B[39;00m:\n\u001B[1;32m-> 1554\u001B[0m         \u001B[38;5;28;01mraise\u001B[39;00m \u001B[38;5;167;01mValueError\u001B[39;00m(\n\u001B[0;32m   1555\u001B[0m             \u001B[38;5;124m\"\u001B[39m\u001B[38;5;124mExcel file format cannot be determined, you must specify \u001B[39m\u001B[38;5;124m\"\u001B[39m\n\u001B[0;32m   1556\u001B[0m             \u001B[38;5;124m\"\u001B[39m\u001B[38;5;124man engine manually.\u001B[39m\u001B[38;5;124m\"\u001B[39m\n\u001B[0;32m   1557\u001B[0m         )\n\u001B[0;32m   1559\u001B[0m engine \u001B[38;5;241m=\u001B[39m config\u001B[38;5;241m.\u001B[39mget_option(\u001B[38;5;124mf\u001B[39m\u001B[38;5;124m\"\u001B[39m\u001B[38;5;124mio.excel.\u001B[39m\u001B[38;5;132;01m{\u001B[39;00mext\u001B[38;5;132;01m}\u001B[39;00m\u001B[38;5;124m.reader\u001B[39m\u001B[38;5;124m\"\u001B[39m, silent\u001B[38;5;241m=\u001B[39m\u001B[38;5;28;01mTrue\u001B[39;00m)\n\u001B[0;32m   1560\u001B[0m \u001B[38;5;28;01mif\u001B[39;00m engine \u001B[38;5;241m==\u001B[39m \u001B[38;5;124m\"\u001B[39m\u001B[38;5;124mauto\u001B[39m\u001B[38;5;124m\"\u001B[39m:\n",
      "\u001B[1;31mValueError\u001B[0m: Excel file format cannot be determined, you must specify an engine manually."
     ]
    }
   ],
   "execution_count": 5
  }
 ],
 "metadata": {
  "kernelspec": {
   "display_name": "Python 3",
   "language": "python",
   "name": "python3"
  },
  "language_info": {
   "codemirror_mode": {
    "name": "ipython",
    "version": 2
   },
   "file_extension": ".py",
   "mimetype": "text/x-python",
   "name": "python",
   "nbconvert_exporter": "python",
   "pygments_lexer": "ipython2",
   "version": "2.7.6"
  }
 },
 "nbformat": 4,
 "nbformat_minor": 5
}
