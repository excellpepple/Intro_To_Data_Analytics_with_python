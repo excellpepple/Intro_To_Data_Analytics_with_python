{
 "cells": [
  {
   "cell_type": "code",
   "id": "initial_id",
   "metadata": {
    "collapsed": true,
    "ExecuteTime": {
     "end_time": "2025-02-19T05:10:26.619774Z",
     "start_time": "2025-02-19T05:10:26.615430Z"
    }
   },
   "source": [
    "from unicodedata import category\n",
    "\n",
    "\n",
    "def read_data(file_name: str) -> []:\n",
    "    \"\"\"\n",
    "    Read data from a csv file.\n",
    "\n",
    "    :param file_name: Name of the csv file.\n",
    "    :return: A list of lists where each inner list represents a row from the csv file.\n",
    "    \"\"\"\n",
    "    data = []\n",
    "    with open(file_name, encoding=\"utf-8\") as f:\n",
    "        data = [line.strip().split(',') for line in f]\n",
    "\n",
    "    return data\n"
   ],
   "outputs": [],
   "execution_count": 13
  },
  {
   "metadata": {
    "ExecuteTime": {
     "end_time": "2025-02-19T06:14:55.171603Z",
     "start_time": "2025-02-19T06:14:55.164603Z"
    }
   },
   "cell_type": "code",
   "source": [
    "data = read_data(\"../resources/HW2_Sales_Data.csv\")\n",
    "category_ids = [ f\"{i+1}\" for i in range(7)]\n",
    "get_category_data = lambda target: filter(lambda row: row[1] == target, data)\n",
    "def extract_sales_data(rows:[]):\n",
    "    order_ids = [int(row[0]) for row in rows]\n",
    "    age = [int(row[2]) for row in rows]\n",
    "    gender = [int(row[3]) for row in rows]\n",
    "    return {\"Order ID\": order_ids, \"Age\": age, \"Gender\": gender}\n",
    "Sales_data = {f\"Category {category_id}\": extract_sales_data(list(get_category_data(category_id))) for category_id in category_ids}\n",
    "print(Sales_data)"
   ],
   "id": "b748377d28948dc4",
   "outputs": [
    {
     "name": "stdout",
     "output_type": "stream",
     "text": [
      "{'Category 1': {'Order ID': [14, 18, 28, 33, 35, 38, 41, 47, 50], 'Age': [45, 55, 29, 25, 41, 64, 55, 36, 38], 'Gender': [1, 2, 1, 2, 1, 2, 2, 1, 1]}, 'Category 2': {'Order ID': [6, 27], 'Age': [44, 34], 'Gender': [2, 1]}, 'Category 3': {'Order ID': [1, 3, 9, 26, 37, 49], 'Age': [37, 30, 34, 27, 30, 25], 'Gender': [2, 2, 1, 2, 1, 2]}, 'Category 4': {'Order ID': [8, 11, 13, 15, 20, 32, 39, 44, 45, 46], 'Age': [61, 53, 30, 47, 54, 54, 34, 50, 35, 36], 'Gender': [1, 1, 2, 2, 2, 1, 1, 1, 1, 1]}, 'Category 5': {'Order ID': [2, 5, 7, 19, 23, 25, 42], 'Age': [47, 50, 48, 49, 50, 52, 25], 'Gender': [1, 2, 2, 1, 1, 1, 2]}, 'Category 6': {'Order ID': [4, 10, 17, 21, 22, 31, 34, 36], 'Age': [60, 50, 36, 36, 54, 38, 55, 56], 'Gender': [1, 2, 2, 2, 1, 2, 2, 1]}, 'Category 7': {'Order ID': [12, 16, 24, 29, 30, 40, 43, 48], 'Age': [23, 30, 47, 32, 46, 55, 20, 43], 'Gender': [1, 1, 2, 2, 2, 1, 1, 2]}}\n"
     ]
    }
   ],
   "execution_count": 34
  },
  {
   "metadata": {
    "ExecuteTime": {
     "end_time": "2025-02-19T06:06:07.114824Z",
     "start_time": "2025-02-19T06:06:07.108714Z"
    }
   },
   "cell_type": "code",
   "source": [
    "category_data_count = {int(category_id): len(Sales_data[f\"Category {category_id}\"][\"Order ID\"]) for category_id in category_ids}\n",
    "print(category_data_count)"
   ],
   "id": "d8c27411516714e5",
   "outputs": [
    {
     "name": "stdout",
     "output_type": "stream",
     "text": [
      "{1: 9, 2: 2, 3: 6, 4: 10, 5: 7, 6: 8, 7: 8}\n"
     ]
    }
   ],
   "execution_count": 33
  },
  {
   "metadata": {
    "ExecuteTime": {
     "end_time": "2025-02-19T06:36:56.203327Z",
     "start_time": "2025-02-19T06:36:56.197103Z"
    }
   },
   "cell_type": "code",
   "source": [
    "get_average_age = lambda age_data: sum(age_data) / len(age_data)\n",
    "result = \"\"\n",
    "for category_id, data in Sales_data.items():\n",
    "    result += f\"{category_id}: Average age = {get_average_age(data[\"Age\"]):.2f}\\n\"\n",
    "print(result)"
   ],
   "id": "305b5693a8c409f5",
   "outputs": [
    {
     "name": "stdout",
     "output_type": "stream",
     "text": [
      "Category 1: Average age = 43.11\n",
      "Category 2: Average age = 39.00\n",
      "Category 3: Average age = 30.50\n",
      "Category 4: Average age = 45.40\n",
      "Category 5: Average age = 45.86\n",
      "Category 6: Average age = 48.12\n",
      "Category 7: Average age = 37.00\n",
      "\n"
     ]
    }
   ],
   "execution_count": 46
  },
  {
   "metadata": {
    "ExecuteTime": {
     "end_time": "2025-02-19T23:26:21.172049Z",
     "start_time": "2025-02-19T23:26:21.166046Z"
    }
   },
   "cell_type": "code",
   "source": [
    "import numpy as np\n",
    "Car_Data = np.load(\"../resources/HW2_Car_Data.npy\")\n",
    "print(Car_Data[:5])"
   ],
   "id": "2760eda125c06f3",
   "outputs": [
    {
     "name": "stdout",
     "output_type": "stream",
     "text": [
      "[[  122    84    26    32 11245]\n",
      " [  141   114    24    28 16515]\n",
      " [  110    56    34    36  7898]\n",
      " [  164   121    21    28 21105]\n",
      " [  110    86    27    33  8845]]\n"
     ]
    }
   ],
   "execution_count": 9
  },
  {
   "metadata": {
    "ExecuteTime": {
     "end_time": "2025-02-19T23:23:10.286678Z",
     "start_time": "2025-02-19T23:23:10.281175Z"
    }
   },
   "cell_type": "code",
   "source": [
    "averages_by_columns = Car_Data.mean(axis=0)\n",
    "result = f\"\"\"\n",
    "Engine_size: {averages_by_columns[0]:.2f}\n",
    "Horsepower: {averages_by_columns[1]:.2f}\n",
    "City_mpg: {averages_by_columns[2]:.2f}\n",
    "Highway_mpg: {averages_by_columns[3]:.2f}\n",
    "Price: {averages_by_columns[4]:.2f}\n",
    "\"\"\"\n",
    "print(result)"
   ],
   "id": "7e81e5bc4dc7e2f4",
   "outputs": [
    {
     "name": "stdout",
     "output_type": "stream",
     "text": [
      "\n",
      "Engine_size: 119.23\n",
      "Horsepower: 95.84\n",
      "City_mpg: 26.52\n",
      "Highway_mpg: 32.08\n",
      "Price: 11445.73\n",
      "\n"
     ]
    }
   ],
   "execution_count": 7
  },
  {
   "metadata": {
    "ExecuteTime": {
     "end_time": "2025-02-19T23:44:54.947819Z",
     "start_time": "2025-02-19T23:44:54.942817Z"
    }
   },
   "cell_type": "code",
   "source": [
    "max_price =lambda inData: np.max(inData[: , -1])\n",
    "min_price = lambda inData: np.min(inData[:,-1])\n",
    "\n",
    "print(f\"Max Price: {max_price(Car_Data)}\")\n",
    "print(f\"Min Price: {min_price(Car_Data)}\")\n"
   ],
   "id": "b146e460e509c310",
   "outputs": [
    {
     "name": "stdout",
     "output_type": "stream",
     "text": [
      "Max Price: 35056\n",
      "Min Price: 5118\n"
     ]
    }
   ],
   "execution_count": 13
  },
  {
   "metadata": {
    "ExecuteTime": {
     "end_time": "2025-02-19T23:51:43.724194Z",
     "start_time": "2025-02-19T23:51:43.720199Z"
    }
   },
   "cell_type": "code",
   "source": [
    "number_of_cars_above_average_engine_size = lambda inData: inData[ inData[: , 0] > averages_by_columns[0]].shape[0]\n",
    "\n",
    "\n",
    "print(f\"Number of cars with engine sizes above the average: {number_of_cars_above_average_engine_size(Car_Data)}\")"
   ],
   "id": "706ffe04bc19bdaa",
   "outputs": [
    {
     "name": "stdout",
     "output_type": "stream",
     "text": [
      "Number of cars with engine sizes above the average: 69\n"
     ]
    }
   ],
   "execution_count": 15
  },
  {
   "metadata": {},
   "cell_type": "code",
   "outputs": [],
   "execution_count": null,
   "source": "",
   "id": "746822e2cd745650"
  },
  {
   "metadata": {},
   "cell_type": "code",
   "outputs": [],
   "execution_count": null,
   "source": "",
   "id": "4be1cd96b074a812"
  },
  {
   "metadata": {
    "ExecuteTime": {
     "end_time": "2025-02-19T05:10:26.670858Z",
     "start_time": "2025-02-19T05:10:26.666859Z"
    }
   },
   "cell_type": "code",
   "source": [
    "\"\"\"\n",
    "# The cells below are all test scripts to test the quality and functionality of the `read_data` function.\n",
    "\"\"\"\n",
    "def test_read_data():\n",
    "    assert len(read_data(\"../resources/HW2_Sales_Data.csv\")[1:]) == 50\n"
   ],
   "id": "91e82cf0413dd492",
   "outputs": [],
   "execution_count": 15
  },
  {
   "metadata": {
    "ExecuteTime": {
     "end_time": "2025-02-19T05:10:26.681497Z",
     "start_time": "2025-02-19T05:10:26.677370Z"
    }
   },
   "cell_type": "code",
   "source": "test_read_data()",
   "id": "15c6fc5891d3604e",
   "outputs": [],
   "execution_count": 16
  }
 ],
 "metadata": {
  "kernelspec": {
   "display_name": "Python 3",
   "language": "python",
   "name": "python3"
  },
  "language_info": {
   "codemirror_mode": {
    "name": "ipython",
    "version": 2
   },
   "file_extension": ".py",
   "mimetype": "text/x-python",
   "name": "python",
   "nbconvert_exporter": "python",
   "pygments_lexer": "ipython2",
   "version": "2.7.6"
  }
 },
 "nbformat": 4,
 "nbformat_minor": 5
}
