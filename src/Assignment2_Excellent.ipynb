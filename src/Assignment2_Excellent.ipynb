{
 "cells": [
  {
   "cell_type": "code",
   "id": "initial_id",
   "metadata": {
    "collapsed": true,
    "ExecuteTime": {
     "end_time": "2025-03-08T02:31:16.923045Z",
     "start_time": "2025-03-08T02:31:16.915686Z"
    }
   },
   "source": [
    "\n",
    "\n",
    "def read_data(file_name: str) -> []:\n",
    "    \"\"\"\n",
    "    Read data from a csv file.\n",
    "\n",
    "    :param file_name: Name of the csv file.\n",
    "    :return: A list of lists where each inner list represents a row from the csv file.\n",
    "    \"\"\"\n",
    "    data = []\n",
    "    with open(file_name, encoding=\"utf-8\") as f:\n",
    "        data = [line.strip().split(',') for line in f]\n",
    "\n",
    "    return data"
   ],
   "outputs": [],
   "execution_count": 120
  },
  {
   "metadata": {
    "ExecuteTime": {
     "end_time": "2025-03-08T02:31:16.971419Z",
     "start_time": "2025-03-08T02:31:16.963735Z"
    }
   },
   "cell_type": "code",
   "source": [
    "data = read_data(\"../resources/HW2_Sales_Data.csv\")\n",
    "category_ids = [ f\"{i+1}\" for i in range(7)]\n",
    "get_category_data = lambda target: filter(lambda row: row[1] == target, data)\n",
    "def extract_sales_data(rows:[]):\n",
    "    order_ids = [int(row[0]) for row in rows]\n",
    "    age = [int(row[2]) for row in rows]\n",
    "    gender = [int(row[3]) for row in rows]\n",
    "    return {\"Order ID\": order_ids, \"Age\": age, \"Gender\": gender}\n",
    "Sales_data = {f\"Category {category_id}\": extract_sales_data(list(get_category_data(category_id))) for category_id in category_ids}\n",
    "print(Sales_data)"
   ],
   "id": "b748377d28948dc4",
   "outputs": [
    {
     "name": "stdout",
     "output_type": "stream",
     "text": [
      "{'Category 1': {'Order ID': [14, 18, 28, 33, 35, 38, 41, 47, 50], 'Age': [45, 55, 29, 25, 41, 64, 55, 36, 38], 'Gender': [1, 2, 1, 2, 1, 2, 2, 1, 1]}, 'Category 2': {'Order ID': [6, 27], 'Age': [44, 34], 'Gender': [2, 1]}, 'Category 3': {'Order ID': [1, 3, 9, 26, 37, 49], 'Age': [37, 30, 34, 27, 30, 25], 'Gender': [2, 2, 1, 2, 1, 2]}, 'Category 4': {'Order ID': [8, 11, 13, 15, 20, 32, 39, 44, 45, 46], 'Age': [61, 53, 30, 47, 54, 54, 34, 50, 35, 36], 'Gender': [1, 1, 2, 2, 2, 1, 1, 1, 1, 1]}, 'Category 5': {'Order ID': [2, 5, 7, 19, 23, 25, 42], 'Age': [47, 50, 48, 49, 50, 52, 25], 'Gender': [1, 2, 2, 1, 1, 1, 2]}, 'Category 6': {'Order ID': [4, 10, 17, 21, 22, 31, 34, 36], 'Age': [60, 50, 36, 36, 54, 38, 55, 56], 'Gender': [1, 2, 2, 2, 1, 2, 2, 1]}, 'Category 7': {'Order ID': [12, 16, 24, 29, 30, 40, 43, 48], 'Age': [23, 30, 47, 32, 46, 55, 20, 43], 'Gender': [1, 1, 2, 2, 2, 1, 1, 2]}}\n"
     ]
    }
   ],
   "execution_count": 121
  },
  {
   "metadata": {
    "ExecuteTime": {
     "end_time": "2025-03-08T02:31:16.997495Z",
     "start_time": "2025-03-08T02:31:16.989490Z"
    }
   },
   "cell_type": "code",
   "source": [
    "category_data_count = {int(category_id): len(Sales_data[f\"Category {category_id}\"][\"Order ID\"]) for category_id in category_ids}\n",
    "print(category_data_count)"
   ],
   "id": "d8c27411516714e5",
   "outputs": [
    {
     "name": "stdout",
     "output_type": "stream",
     "text": [
      "{1: 9, 2: 2, 3: 6, 4: 10, 5: 7, 6: 8, 7: 8}\n"
     ]
    }
   ],
   "execution_count": 122
  },
  {
   "metadata": {
    "ExecuteTime": {
     "end_time": "2025-03-08T02:31:17.058111Z",
     "start_time": "2025-03-08T02:31:17.051287Z"
    }
   },
   "cell_type": "code",
   "source": [
    "get_average_age = lambda age_data: sum(age_data) / len(age_data)\n",
    "result = \"\"\n",
    "for category_id, data in Sales_data.items():\n",
    "    result += f\"{category_id}: Average age = {get_average_age(data[\"Age\"]):.2f}\\n\"\n",
    "print(result)"
   ],
   "id": "305b5693a8c409f5",
   "outputs": [
    {
     "name": "stdout",
     "output_type": "stream",
     "text": [
      "Category 1: Average age = 43.11\n",
      "Category 2: Average age = 39.00\n",
      "Category 3: Average age = 30.50\n",
      "Category 4: Average age = 45.40\n",
      "Category 5: Average age = 45.86\n",
      "Category 6: Average age = 48.12\n",
      "Category 7: Average age = 37.00\n",
      "\n"
     ]
    }
   ],
   "execution_count": 123
  },
  {
   "metadata": {
    "ExecuteTime": {
     "end_time": "2025-03-08T02:31:17.072044Z",
     "start_time": "2025-03-08T02:31:17.067526Z"
    }
   },
   "cell_type": "code",
   "source": [
    "import numpy as np\n",
    "Car_Data = np.load(\"../resources/HW2_Car_Data.npy\")\n",
    "print(Car_Data[:5])\n"
   ],
   "id": "2760eda125c06f3",
   "outputs": [
    {
     "name": "stdout",
     "output_type": "stream",
     "text": [
      "[[  122    84    26    32 11245]\n",
      " [  141   114    24    28 16515]\n",
      " [  110    56    34    36  7898]\n",
      " [  164   121    21    28 21105]\n",
      " [  110    86    27    33  8845]]\n"
     ]
    }
   ],
   "execution_count": 124
  },
  {
   "metadata": {
    "ExecuteTime": {
     "end_time": "2025-03-08T02:31:17.112878Z",
     "start_time": "2025-03-08T02:31:17.103977Z"
    }
   },
   "cell_type": "code",
   "source": [
    "averages_by_columns = Car_Data.mean(axis=0)\n",
    "result = f\"\"\"\n",
    "Engine_size: {averages_by_columns[0]:.2f}\n",
    "Horsepower: {averages_by_columns[1]:.2f}\n",
    "City_mpg: {averages_by_columns[2]:.2f}\n",
    "Highway_mpg: {averages_by_columns[3]:.2f}\n",
    "Price: {averages_by_columns[4]:.2f}\n",
    "\"\"\"\n",
    "print(result)\n",
    "averages_by_columns"
   ],
   "id": "7e81e5bc4dc7e2f4",
   "outputs": [
    {
     "name": "stdout",
     "output_type": "stream",
     "text": [
      "\n",
      "Engine_size: 119.23\n",
      "Horsepower: 95.84\n",
      "City_mpg: 26.52\n",
      "Highway_mpg: 32.08\n",
      "Price: 11445.73\n",
      "\n"
     ]
    },
    {
     "data": {
      "text/plain": [
       "array([  119.22641509,    95.83647799,    26.52201258,    32.08176101,\n",
       "       11445.72955975])"
      ]
     },
     "execution_count": 125,
     "metadata": {},
     "output_type": "execute_result"
    }
   ],
   "execution_count": 125
  },
  {
   "metadata": {
    "ExecuteTime": {
     "end_time": "2025-03-08T02:31:17.135981Z",
     "start_time": "2025-03-08T02:31:17.129807Z"
    }
   },
   "cell_type": "code",
   "source": [
    "max_price =lambda inData: np.max(inData[: , -1])\n",
    "min_price = lambda inData: np.min(inData[:,-1])\n",
    "\n",
    "print(f\"Max Price: {max_price(Car_Data)}\")\n",
    "print(f\"Min Price: {min_price(Car_Data)}\")\n"
   ],
   "id": "b146e460e509c310",
   "outputs": [
    {
     "name": "stdout",
     "output_type": "stream",
     "text": [
      "Max Price: 35056\n",
      "Min Price: 5118\n"
     ]
    }
   ],
   "execution_count": 126
  },
  {
   "metadata": {
    "ExecuteTime": {
     "end_time": "2025-03-08T02:31:17.164212Z",
     "start_time": "2025-03-08T02:31:17.159733Z"
    }
   },
   "cell_type": "code",
   "source": [
    "number_of_cars_above_average_engine_size = lambda inData: inData[ inData[: , 0] > averages_by_columns[0]].shape[0]\n",
    "\n",
    "\n",
    "print(f\"Number of cars with engine sizes above the average: {number_of_cars_above_average_engine_size(Car_Data)}\")"
   ],
   "id": "706ffe04bc19bdaa",
   "outputs": [
    {
     "name": "stdout",
     "output_type": "stream",
     "text": [
      "Number of cars with engine sizes above the average: 69\n"
     ]
    }
   ],
   "execution_count": 127
  },
  {
   "metadata": {
    "ExecuteTime": {
     "end_time": "2025-03-08T02:31:17.213086Z",
     "start_time": "2025-03-08T02:31:17.205778Z"
    }
   },
   "cell_type": "code",
   "source": [
    "IsAboveAverage  = Car_Data[: , 0] > averages_by_columns[0]\n",
    "IsBelowAverage = ~IsAboveAverage\n",
    "GetTotalHorsePower = lambda condition: Car_Data[condition, 1].sum()\n",
    "TotalHorsePowerAboveAverage = GetTotalHorsePower(IsAboveAverage)\n",
    "TotalHorsePowerBelowAverage = GetTotalHorsePower(IsBelowAverage)\n",
    "\n",
    "print(f\"Total Horse Power Above Average: {TotalHorsePowerAboveAverage}\\nTotal Horse Power Below Average: {TotalHorsePowerBelowAverage}\")\n"
   ],
   "id": "746822e2cd745650",
   "outputs": [
    {
     "name": "stdout",
     "output_type": "stream",
     "text": [
      "Total Horse Power Above Average: 8294\n",
      "Total Horse Power Below Average: 6944\n"
     ]
    }
   ],
   "execution_count": 128
  },
  {
   "metadata": {
    "ExecuteTime": {
     "end_time": "2025-03-08T02:31:17.248116Z",
     "start_time": "2025-03-08T02:31:17.242332Z"
    }
   },
   "cell_type": "code",
   "source": [
    "GetCarsAboveCityMPG = lambda mpg: Car_Data[: ,2] > mpg\n",
    "GetCarsAboveHighwayMPG = lambda mpg: Car_Data[: , 3] > mpg\n",
    "print(f\"Total number of cars with city mpg above 35: {np.sum(GetCarsAboveCityMPG(35))}\\n Total number of cars with highway mpg above 45: {np.sum(GetCarsAboveHighwayMPG(45))}\")"
   ],
   "id": "4be1cd96b074a812",
   "outputs": [
    {
     "name": "stdout",
     "output_type": "stream",
     "text": [
      "Total number of cars with city mpg above 35: 14\n",
      " Total number of cars with highway mpg above 45: 7\n"
     ]
    }
   ],
   "execution_count": 129
  },
  {
   "metadata": {
    "ExecuteTime": {
     "end_time": "2025-03-08T02:31:17.311046Z",
     "start_time": "2025-03-08T02:31:17.304260Z"
    }
   },
   "cell_type": "code",
   "source": [
    "#Data Analytics on DataFrame\n",
    "def read_index(file_name: str) -> []:\n",
    "    \"\"\"\n",
    "    Read data from a csv file.\n",
    "\n",
    "    :param file_name: Name of the txt file.\n",
    "    :return: A list of lists where each inner list represents a row from the txt file.\n",
    "    \"\"\"\n",
    "    data = []\n",
    "    with open(file_name, encoding=\"utf-8\") as f:\n",
    "        data = [line.strip().split(':')[0] for line in f]\n",
    "\n",
    "    return data\n",
    "\n",
    "column_names = read_index(\"../resources/HW2_Car_Index.txt\")"
   ],
   "id": "6deed9400c6508bf",
   "outputs": [],
   "execution_count": 130
  },
  {
   "metadata": {
    "ExecuteTime": {
     "end_time": "2025-03-08T02:31:17.334097Z",
     "start_time": "2025-03-08T02:31:17.323078Z"
    }
   },
   "cell_type": "code",
   "source": [
    "import pandas as pd\n",
    "def read_car_info(file_name: str)->pd.DataFrame:\n",
    "    return pd.read_csv(file_name, header=None, names=column_names[:5])\n",
    "df = read_car_info(\"../resources/HW2_Car_Info.csv\")\n",
    "df"
   ],
   "id": "4e5e4b8b4d74f65b",
   "outputs": [
    {
     "data": {
      "text/plain": [
       "      Maker  Body_type Drivetrains Engine_type Num_of_cylinders\n",
       "0     mazda  hatchback         fwd         ohc             four\n",
       "1     volvo      wagon         rwd         ohc             four\n",
       "2    toyota      sedan         fwd         ohc             four\n",
       "3       bmw      sedan         rwd         ohc              six\n",
       "4     honda      sedan         fwd         ohc             four\n",
       "..      ...        ...         ...         ...              ...\n",
       "154  toyota  hatchback         fwd         ohc             four\n",
       "155   honda      sedan         fwd         ohc             four\n",
       "156   volvo      sedan         rwd         ohc              six\n",
       "157  toyota      sedan         rwd         ohc             four\n",
       "158   volvo      sedan         rwd         ohc             four\n",
       "\n",
       "[159 rows x 5 columns]"
      ],
      "text/html": [
       "<div>\n",
       "<style scoped>\n",
       "    .dataframe tbody tr th:only-of-type {\n",
       "        vertical-align: middle;\n",
       "    }\n",
       "\n",
       "    .dataframe tbody tr th {\n",
       "        vertical-align: top;\n",
       "    }\n",
       "\n",
       "    .dataframe thead th {\n",
       "        text-align: right;\n",
       "    }\n",
       "</style>\n",
       "<table border=\"1\" class=\"dataframe\">\n",
       "  <thead>\n",
       "    <tr style=\"text-align: right;\">\n",
       "      <th></th>\n",
       "      <th>Maker</th>\n",
       "      <th>Body_type</th>\n",
       "      <th>Drivetrains</th>\n",
       "      <th>Engine_type</th>\n",
       "      <th>Num_of_cylinders</th>\n",
       "    </tr>\n",
       "  </thead>\n",
       "  <tbody>\n",
       "    <tr>\n",
       "      <th>0</th>\n",
       "      <td>mazda</td>\n",
       "      <td>hatchback</td>\n",
       "      <td>fwd</td>\n",
       "      <td>ohc</td>\n",
       "      <td>four</td>\n",
       "    </tr>\n",
       "    <tr>\n",
       "      <th>1</th>\n",
       "      <td>volvo</td>\n",
       "      <td>wagon</td>\n",
       "      <td>rwd</td>\n",
       "      <td>ohc</td>\n",
       "      <td>four</td>\n",
       "    </tr>\n",
       "    <tr>\n",
       "      <th>2</th>\n",
       "      <td>toyota</td>\n",
       "      <td>sedan</td>\n",
       "      <td>fwd</td>\n",
       "      <td>ohc</td>\n",
       "      <td>four</td>\n",
       "    </tr>\n",
       "    <tr>\n",
       "      <th>3</th>\n",
       "      <td>bmw</td>\n",
       "      <td>sedan</td>\n",
       "      <td>rwd</td>\n",
       "      <td>ohc</td>\n",
       "      <td>six</td>\n",
       "    </tr>\n",
       "    <tr>\n",
       "      <th>4</th>\n",
       "      <td>honda</td>\n",
       "      <td>sedan</td>\n",
       "      <td>fwd</td>\n",
       "      <td>ohc</td>\n",
       "      <td>four</td>\n",
       "    </tr>\n",
       "    <tr>\n",
       "      <th>...</th>\n",
       "      <td>...</td>\n",
       "      <td>...</td>\n",
       "      <td>...</td>\n",
       "      <td>...</td>\n",
       "      <td>...</td>\n",
       "    </tr>\n",
       "    <tr>\n",
       "      <th>154</th>\n",
       "      <td>toyota</td>\n",
       "      <td>hatchback</td>\n",
       "      <td>fwd</td>\n",
       "      <td>ohc</td>\n",
       "      <td>four</td>\n",
       "    </tr>\n",
       "    <tr>\n",
       "      <th>155</th>\n",
       "      <td>honda</td>\n",
       "      <td>sedan</td>\n",
       "      <td>fwd</td>\n",
       "      <td>ohc</td>\n",
       "      <td>four</td>\n",
       "    </tr>\n",
       "    <tr>\n",
       "      <th>156</th>\n",
       "      <td>volvo</td>\n",
       "      <td>sedan</td>\n",
       "      <td>rwd</td>\n",
       "      <td>ohc</td>\n",
       "      <td>six</td>\n",
       "    </tr>\n",
       "    <tr>\n",
       "      <th>157</th>\n",
       "      <td>toyota</td>\n",
       "      <td>sedan</td>\n",
       "      <td>rwd</td>\n",
       "      <td>ohc</td>\n",
       "      <td>four</td>\n",
       "    </tr>\n",
       "    <tr>\n",
       "      <th>158</th>\n",
       "      <td>volvo</td>\n",
       "      <td>sedan</td>\n",
       "      <td>rwd</td>\n",
       "      <td>ohc</td>\n",
       "      <td>four</td>\n",
       "    </tr>\n",
       "  </tbody>\n",
       "</table>\n",
       "<p>159 rows × 5 columns</p>\n",
       "</div>"
      ]
     },
     "execution_count": 131,
     "metadata": {},
     "output_type": "execute_result"
    }
   ],
   "execution_count": 131
  },
  {
   "metadata": {
    "ExecuteTime": {
     "end_time": "2025-03-08T02:31:17.399979Z",
     "start_time": "2025-03-08T02:31:17.390445Z"
    }
   },
   "cell_type": "code",
   "source": [
    "df2 = pd.DataFrame(Car_Data, columns=column_names[5:])\n",
    "df2"
   ],
   "id": "d6676d26e59af78a",
   "outputs": [
    {
     "data": {
      "text/plain": [
       "     Engine_size  Horsepower  City_mpg  Highway_mpg  Price\n",
       "0            122          84        26           32  11245\n",
       "1            141         114        24           28  16515\n",
       "2            110          56        34           36   7898\n",
       "3            164         121        21           28  21105\n",
       "4            110          86        27           33   8845\n",
       "..           ...         ...       ...          ...    ...\n",
       "154           98          70        28           34   8358\n",
       "155          110         101        24           28  12945\n",
       "156          145         106        26           27  22470\n",
       "157           98          70        29           34   8058\n",
       "158          130         162        17           22  18420\n",
       "\n",
       "[159 rows x 5 columns]"
      ],
      "text/html": [
       "<div>\n",
       "<style scoped>\n",
       "    .dataframe tbody tr th:only-of-type {\n",
       "        vertical-align: middle;\n",
       "    }\n",
       "\n",
       "    .dataframe tbody tr th {\n",
       "        vertical-align: top;\n",
       "    }\n",
       "\n",
       "    .dataframe thead th {\n",
       "        text-align: right;\n",
       "    }\n",
       "</style>\n",
       "<table border=\"1\" class=\"dataframe\">\n",
       "  <thead>\n",
       "    <tr style=\"text-align: right;\">\n",
       "      <th></th>\n",
       "      <th>Engine_size</th>\n",
       "      <th>Horsepower</th>\n",
       "      <th>City_mpg</th>\n",
       "      <th>Highway_mpg</th>\n",
       "      <th>Price</th>\n",
       "    </tr>\n",
       "  </thead>\n",
       "  <tbody>\n",
       "    <tr>\n",
       "      <th>0</th>\n",
       "      <td>122</td>\n",
       "      <td>84</td>\n",
       "      <td>26</td>\n",
       "      <td>32</td>\n",
       "      <td>11245</td>\n",
       "    </tr>\n",
       "    <tr>\n",
       "      <th>1</th>\n",
       "      <td>141</td>\n",
       "      <td>114</td>\n",
       "      <td>24</td>\n",
       "      <td>28</td>\n",
       "      <td>16515</td>\n",
       "    </tr>\n",
       "    <tr>\n",
       "      <th>2</th>\n",
       "      <td>110</td>\n",
       "      <td>56</td>\n",
       "      <td>34</td>\n",
       "      <td>36</td>\n",
       "      <td>7898</td>\n",
       "    </tr>\n",
       "    <tr>\n",
       "      <th>3</th>\n",
       "      <td>164</td>\n",
       "      <td>121</td>\n",
       "      <td>21</td>\n",
       "      <td>28</td>\n",
       "      <td>21105</td>\n",
       "    </tr>\n",
       "    <tr>\n",
       "      <th>4</th>\n",
       "      <td>110</td>\n",
       "      <td>86</td>\n",
       "      <td>27</td>\n",
       "      <td>33</td>\n",
       "      <td>8845</td>\n",
       "    </tr>\n",
       "    <tr>\n",
       "      <th>...</th>\n",
       "      <td>...</td>\n",
       "      <td>...</td>\n",
       "      <td>...</td>\n",
       "      <td>...</td>\n",
       "      <td>...</td>\n",
       "    </tr>\n",
       "    <tr>\n",
       "      <th>154</th>\n",
       "      <td>98</td>\n",
       "      <td>70</td>\n",
       "      <td>28</td>\n",
       "      <td>34</td>\n",
       "      <td>8358</td>\n",
       "    </tr>\n",
       "    <tr>\n",
       "      <th>155</th>\n",
       "      <td>110</td>\n",
       "      <td>101</td>\n",
       "      <td>24</td>\n",
       "      <td>28</td>\n",
       "      <td>12945</td>\n",
       "    </tr>\n",
       "    <tr>\n",
       "      <th>156</th>\n",
       "      <td>145</td>\n",
       "      <td>106</td>\n",
       "      <td>26</td>\n",
       "      <td>27</td>\n",
       "      <td>22470</td>\n",
       "    </tr>\n",
       "    <tr>\n",
       "      <th>157</th>\n",
       "      <td>98</td>\n",
       "      <td>70</td>\n",
       "      <td>29</td>\n",
       "      <td>34</td>\n",
       "      <td>8058</td>\n",
       "    </tr>\n",
       "    <tr>\n",
       "      <th>158</th>\n",
       "      <td>130</td>\n",
       "      <td>162</td>\n",
       "      <td>17</td>\n",
       "      <td>22</td>\n",
       "      <td>18420</td>\n",
       "    </tr>\n",
       "  </tbody>\n",
       "</table>\n",
       "<p>159 rows × 5 columns</p>\n",
       "</div>"
      ]
     },
     "execution_count": 132,
     "metadata": {},
     "output_type": "execute_result"
    }
   ],
   "execution_count": 132
  },
  {
   "metadata": {
    "ExecuteTime": {
     "end_time": "2025-03-08T02:31:17.492640Z",
     "start_time": "2025-03-08T02:31:17.479454Z"
    }
   },
   "cell_type": "code",
   "source": [
    "master_table = pd.concat([df, df2], axis=1)\n",
    "master_table.index.name = \"Sequence No\"\n",
    "master_table"
   ],
   "id": "e4f0b5defabdc0db",
   "outputs": [
    {
     "data": {
      "text/plain": [
       "              Maker  Body_type Drivetrains Engine_type Num_of_cylinders  \\\n",
       "Sequence No                                                               \n",
       "0             mazda  hatchback         fwd         ohc             four   \n",
       "1             volvo      wagon         rwd         ohc             four   \n",
       "2            toyota      sedan         fwd         ohc             four   \n",
       "3               bmw      sedan         rwd         ohc              six   \n",
       "4             honda      sedan         fwd         ohc             four   \n",
       "...             ...        ...         ...         ...              ...   \n",
       "154          toyota  hatchback         fwd         ohc             four   \n",
       "155           honda      sedan         fwd         ohc             four   \n",
       "156           volvo      sedan         rwd         ohc              six   \n",
       "157          toyota      sedan         rwd         ohc             four   \n",
       "158           volvo      sedan         rwd         ohc             four   \n",
       "\n",
       "             Engine_size  Horsepower  City_mpg  Highway_mpg  Price  \n",
       "Sequence No                                                         \n",
       "0                    122          84        26           32  11245  \n",
       "1                    141         114        24           28  16515  \n",
       "2                    110          56        34           36   7898  \n",
       "3                    164         121        21           28  21105  \n",
       "4                    110          86        27           33   8845  \n",
       "...                  ...         ...       ...          ...    ...  \n",
       "154                   98          70        28           34   8358  \n",
       "155                  110         101        24           28  12945  \n",
       "156                  145         106        26           27  22470  \n",
       "157                   98          70        29           34   8058  \n",
       "158                  130         162        17           22  18420  \n",
       "\n",
       "[159 rows x 10 columns]"
      ],
      "text/html": [
       "<div>\n",
       "<style scoped>\n",
       "    .dataframe tbody tr th:only-of-type {\n",
       "        vertical-align: middle;\n",
       "    }\n",
       "\n",
       "    .dataframe tbody tr th {\n",
       "        vertical-align: top;\n",
       "    }\n",
       "\n",
       "    .dataframe thead th {\n",
       "        text-align: right;\n",
       "    }\n",
       "</style>\n",
       "<table border=\"1\" class=\"dataframe\">\n",
       "  <thead>\n",
       "    <tr style=\"text-align: right;\">\n",
       "      <th></th>\n",
       "      <th>Maker</th>\n",
       "      <th>Body_type</th>\n",
       "      <th>Drivetrains</th>\n",
       "      <th>Engine_type</th>\n",
       "      <th>Num_of_cylinders</th>\n",
       "      <th>Engine_size</th>\n",
       "      <th>Horsepower</th>\n",
       "      <th>City_mpg</th>\n",
       "      <th>Highway_mpg</th>\n",
       "      <th>Price</th>\n",
       "    </tr>\n",
       "    <tr>\n",
       "      <th>Sequence No</th>\n",
       "      <th></th>\n",
       "      <th></th>\n",
       "      <th></th>\n",
       "      <th></th>\n",
       "      <th></th>\n",
       "      <th></th>\n",
       "      <th></th>\n",
       "      <th></th>\n",
       "      <th></th>\n",
       "      <th></th>\n",
       "    </tr>\n",
       "  </thead>\n",
       "  <tbody>\n",
       "    <tr>\n",
       "      <th>0</th>\n",
       "      <td>mazda</td>\n",
       "      <td>hatchback</td>\n",
       "      <td>fwd</td>\n",
       "      <td>ohc</td>\n",
       "      <td>four</td>\n",
       "      <td>122</td>\n",
       "      <td>84</td>\n",
       "      <td>26</td>\n",
       "      <td>32</td>\n",
       "      <td>11245</td>\n",
       "    </tr>\n",
       "    <tr>\n",
       "      <th>1</th>\n",
       "      <td>volvo</td>\n",
       "      <td>wagon</td>\n",
       "      <td>rwd</td>\n",
       "      <td>ohc</td>\n",
       "      <td>four</td>\n",
       "      <td>141</td>\n",
       "      <td>114</td>\n",
       "      <td>24</td>\n",
       "      <td>28</td>\n",
       "      <td>16515</td>\n",
       "    </tr>\n",
       "    <tr>\n",
       "      <th>2</th>\n",
       "      <td>toyota</td>\n",
       "      <td>sedan</td>\n",
       "      <td>fwd</td>\n",
       "      <td>ohc</td>\n",
       "      <td>four</td>\n",
       "      <td>110</td>\n",
       "      <td>56</td>\n",
       "      <td>34</td>\n",
       "      <td>36</td>\n",
       "      <td>7898</td>\n",
       "    </tr>\n",
       "    <tr>\n",
       "      <th>3</th>\n",
       "      <td>bmw</td>\n",
       "      <td>sedan</td>\n",
       "      <td>rwd</td>\n",
       "      <td>ohc</td>\n",
       "      <td>six</td>\n",
       "      <td>164</td>\n",
       "      <td>121</td>\n",
       "      <td>21</td>\n",
       "      <td>28</td>\n",
       "      <td>21105</td>\n",
       "    </tr>\n",
       "    <tr>\n",
       "      <th>4</th>\n",
       "      <td>honda</td>\n",
       "      <td>sedan</td>\n",
       "      <td>fwd</td>\n",
       "      <td>ohc</td>\n",
       "      <td>four</td>\n",
       "      <td>110</td>\n",
       "      <td>86</td>\n",
       "      <td>27</td>\n",
       "      <td>33</td>\n",
       "      <td>8845</td>\n",
       "    </tr>\n",
       "    <tr>\n",
       "      <th>...</th>\n",
       "      <td>...</td>\n",
       "      <td>...</td>\n",
       "      <td>...</td>\n",
       "      <td>...</td>\n",
       "      <td>...</td>\n",
       "      <td>...</td>\n",
       "      <td>...</td>\n",
       "      <td>...</td>\n",
       "      <td>...</td>\n",
       "      <td>...</td>\n",
       "    </tr>\n",
       "    <tr>\n",
       "      <th>154</th>\n",
       "      <td>toyota</td>\n",
       "      <td>hatchback</td>\n",
       "      <td>fwd</td>\n",
       "      <td>ohc</td>\n",
       "      <td>four</td>\n",
       "      <td>98</td>\n",
       "      <td>70</td>\n",
       "      <td>28</td>\n",
       "      <td>34</td>\n",
       "      <td>8358</td>\n",
       "    </tr>\n",
       "    <tr>\n",
       "      <th>155</th>\n",
       "      <td>honda</td>\n",
       "      <td>sedan</td>\n",
       "      <td>fwd</td>\n",
       "      <td>ohc</td>\n",
       "      <td>four</td>\n",
       "      <td>110</td>\n",
       "      <td>101</td>\n",
       "      <td>24</td>\n",
       "      <td>28</td>\n",
       "      <td>12945</td>\n",
       "    </tr>\n",
       "    <tr>\n",
       "      <th>156</th>\n",
       "      <td>volvo</td>\n",
       "      <td>sedan</td>\n",
       "      <td>rwd</td>\n",
       "      <td>ohc</td>\n",
       "      <td>six</td>\n",
       "      <td>145</td>\n",
       "      <td>106</td>\n",
       "      <td>26</td>\n",
       "      <td>27</td>\n",
       "      <td>22470</td>\n",
       "    </tr>\n",
       "    <tr>\n",
       "      <th>157</th>\n",
       "      <td>toyota</td>\n",
       "      <td>sedan</td>\n",
       "      <td>rwd</td>\n",
       "      <td>ohc</td>\n",
       "      <td>four</td>\n",
       "      <td>98</td>\n",
       "      <td>70</td>\n",
       "      <td>29</td>\n",
       "      <td>34</td>\n",
       "      <td>8058</td>\n",
       "    </tr>\n",
       "    <tr>\n",
       "      <th>158</th>\n",
       "      <td>volvo</td>\n",
       "      <td>sedan</td>\n",
       "      <td>rwd</td>\n",
       "      <td>ohc</td>\n",
       "      <td>four</td>\n",
       "      <td>130</td>\n",
       "      <td>162</td>\n",
       "      <td>17</td>\n",
       "      <td>22</td>\n",
       "      <td>18420</td>\n",
       "    </tr>\n",
       "  </tbody>\n",
       "</table>\n",
       "<p>159 rows × 10 columns</p>\n",
       "</div>"
      ]
     },
     "execution_count": 133,
     "metadata": {},
     "output_type": "execute_result"
    }
   ],
   "execution_count": 133
  },
  {
   "metadata": {
    "ExecuteTime": {
     "end_time": "2025-03-08T02:31:17.610295Z",
     "start_time": "2025-03-08T02:31:17.595304Z"
    }
   },
   "cell_type": "code",
   "source": [
    "master_table_description = master_table.describe()\n",
    "price_stats = master_table_description.loc[[\"min\", \"max\", \"mean\", \"std\"]][\"Price\"]\n",
    "for index, price in price_stats.items():\n",
    "    print(f\"{index}: ${price:.2f}\")"
   ],
   "id": "4fbf2259898b99ed",
   "outputs": [
    {
     "name": "stdout",
     "output_type": "stream",
     "text": [
      "min: $5118.00\n",
      "max: $35056.00\n",
      "mean: $11445.73\n",
      "std: $5877.86\n"
     ]
    }
   ],
   "execution_count": 134
  },
  {
   "metadata": {
    "ExecuteTime": {
     "end_time": "2025-03-08T02:31:17.713352Z",
     "start_time": "2025-03-08T02:31:17.700133Z"
    }
   },
   "cell_type": "code",
   "source": [
    "def compute_stats(frame: pd.DataFrame)-> pd.DataFrame:\n",
    "    return frame.describe().loc[[\"min\", \"max\", \"mean\", \"std\"]]\n",
    "\n",
    "compute_stats(master_table[column_names[6:-1]])"
   ],
   "id": "f93910f4c3807da0",
   "outputs": [
    {
     "data": {
      "text/plain": [
       "      Horsepower   City_mpg  Highway_mpg\n",
       "min    48.000000  15.000000    18.000000\n",
       "max   200.000000  49.000000    54.000000\n",
       "mean   95.836478  26.522013    32.081761\n",
       "std    30.718583   6.097142     6.459189"
      ],
      "text/html": [
       "<div>\n",
       "<style scoped>\n",
       "    .dataframe tbody tr th:only-of-type {\n",
       "        vertical-align: middle;\n",
       "    }\n",
       "\n",
       "    .dataframe tbody tr th {\n",
       "        vertical-align: top;\n",
       "    }\n",
       "\n",
       "    .dataframe thead th {\n",
       "        text-align: right;\n",
       "    }\n",
       "</style>\n",
       "<table border=\"1\" class=\"dataframe\">\n",
       "  <thead>\n",
       "    <tr style=\"text-align: right;\">\n",
       "      <th></th>\n",
       "      <th>Horsepower</th>\n",
       "      <th>City_mpg</th>\n",
       "      <th>Highway_mpg</th>\n",
       "    </tr>\n",
       "  </thead>\n",
       "  <tbody>\n",
       "    <tr>\n",
       "      <th>min</th>\n",
       "      <td>48.000000</td>\n",
       "      <td>15.000000</td>\n",
       "      <td>18.000000</td>\n",
       "    </tr>\n",
       "    <tr>\n",
       "      <th>max</th>\n",
       "      <td>200.000000</td>\n",
       "      <td>49.000000</td>\n",
       "      <td>54.000000</td>\n",
       "    </tr>\n",
       "    <tr>\n",
       "      <th>mean</th>\n",
       "      <td>95.836478</td>\n",
       "      <td>26.522013</td>\n",
       "      <td>32.081761</td>\n",
       "    </tr>\n",
       "    <tr>\n",
       "      <th>std</th>\n",
       "      <td>30.718583</td>\n",
       "      <td>6.097142</td>\n",
       "      <td>6.459189</td>\n",
       "    </tr>\n",
       "  </tbody>\n",
       "</table>\n",
       "</div>"
      ]
     },
     "execution_count": 135,
     "metadata": {},
     "output_type": "execute_result"
    }
   ],
   "execution_count": 135
  },
  {
   "metadata": {
    "ExecuteTime": {
     "end_time": "2025-03-08T02:31:17.833868Z",
     "start_time": "2025-03-08T02:31:17.818101Z"
    }
   },
   "cell_type": "code",
   "source": [
    "master_table[\"H/E Ratio\"]  = master_table[\"Horsepower\"] / master_table[\"Engine_size\"]\n",
    "master_table"
   ],
   "id": "fb11d214bf80198c",
   "outputs": [
    {
     "data": {
      "text/plain": [
       "              Maker  Body_type Drivetrains Engine_type Num_of_cylinders  \\\n",
       "Sequence No                                                               \n",
       "0             mazda  hatchback         fwd         ohc             four   \n",
       "1             volvo      wagon         rwd         ohc             four   \n",
       "2            toyota      sedan         fwd         ohc             four   \n",
       "3               bmw      sedan         rwd         ohc              six   \n",
       "4             honda      sedan         fwd         ohc             four   \n",
       "...             ...        ...         ...         ...              ...   \n",
       "154          toyota  hatchback         fwd         ohc             four   \n",
       "155           honda      sedan         fwd         ohc             four   \n",
       "156           volvo      sedan         rwd         ohc              six   \n",
       "157          toyota      sedan         rwd         ohc             four   \n",
       "158           volvo      sedan         rwd         ohc             four   \n",
       "\n",
       "             Engine_size  Horsepower  City_mpg  Highway_mpg  Price  H/E Ratio  \n",
       "Sequence No                                                                    \n",
       "0                    122          84        26           32  11245   0.688525  \n",
       "1                    141         114        24           28  16515   0.808511  \n",
       "2                    110          56        34           36   7898   0.509091  \n",
       "3                    164         121        21           28  21105   0.737805  \n",
       "4                    110          86        27           33   8845   0.781818  \n",
       "...                  ...         ...       ...          ...    ...        ...  \n",
       "154                   98          70        28           34   8358   0.714286  \n",
       "155                  110         101        24           28  12945   0.918182  \n",
       "156                  145         106        26           27  22470   0.731034  \n",
       "157                   98          70        29           34   8058   0.714286  \n",
       "158                  130         162        17           22  18420   1.246154  \n",
       "\n",
       "[159 rows x 11 columns]"
      ],
      "text/html": [
       "<div>\n",
       "<style scoped>\n",
       "    .dataframe tbody tr th:only-of-type {\n",
       "        vertical-align: middle;\n",
       "    }\n",
       "\n",
       "    .dataframe tbody tr th {\n",
       "        vertical-align: top;\n",
       "    }\n",
       "\n",
       "    .dataframe thead th {\n",
       "        text-align: right;\n",
       "    }\n",
       "</style>\n",
       "<table border=\"1\" class=\"dataframe\">\n",
       "  <thead>\n",
       "    <tr style=\"text-align: right;\">\n",
       "      <th></th>\n",
       "      <th>Maker</th>\n",
       "      <th>Body_type</th>\n",
       "      <th>Drivetrains</th>\n",
       "      <th>Engine_type</th>\n",
       "      <th>Num_of_cylinders</th>\n",
       "      <th>Engine_size</th>\n",
       "      <th>Horsepower</th>\n",
       "      <th>City_mpg</th>\n",
       "      <th>Highway_mpg</th>\n",
       "      <th>Price</th>\n",
       "      <th>H/E Ratio</th>\n",
       "    </tr>\n",
       "    <tr>\n",
       "      <th>Sequence No</th>\n",
       "      <th></th>\n",
       "      <th></th>\n",
       "      <th></th>\n",
       "      <th></th>\n",
       "      <th></th>\n",
       "      <th></th>\n",
       "      <th></th>\n",
       "      <th></th>\n",
       "      <th></th>\n",
       "      <th></th>\n",
       "      <th></th>\n",
       "    </tr>\n",
       "  </thead>\n",
       "  <tbody>\n",
       "    <tr>\n",
       "      <th>0</th>\n",
       "      <td>mazda</td>\n",
       "      <td>hatchback</td>\n",
       "      <td>fwd</td>\n",
       "      <td>ohc</td>\n",
       "      <td>four</td>\n",
       "      <td>122</td>\n",
       "      <td>84</td>\n",
       "      <td>26</td>\n",
       "      <td>32</td>\n",
       "      <td>11245</td>\n",
       "      <td>0.688525</td>\n",
       "    </tr>\n",
       "    <tr>\n",
       "      <th>1</th>\n",
       "      <td>volvo</td>\n",
       "      <td>wagon</td>\n",
       "      <td>rwd</td>\n",
       "      <td>ohc</td>\n",
       "      <td>four</td>\n",
       "      <td>141</td>\n",
       "      <td>114</td>\n",
       "      <td>24</td>\n",
       "      <td>28</td>\n",
       "      <td>16515</td>\n",
       "      <td>0.808511</td>\n",
       "    </tr>\n",
       "    <tr>\n",
       "      <th>2</th>\n",
       "      <td>toyota</td>\n",
       "      <td>sedan</td>\n",
       "      <td>fwd</td>\n",
       "      <td>ohc</td>\n",
       "      <td>four</td>\n",
       "      <td>110</td>\n",
       "      <td>56</td>\n",
       "      <td>34</td>\n",
       "      <td>36</td>\n",
       "      <td>7898</td>\n",
       "      <td>0.509091</td>\n",
       "    </tr>\n",
       "    <tr>\n",
       "      <th>3</th>\n",
       "      <td>bmw</td>\n",
       "      <td>sedan</td>\n",
       "      <td>rwd</td>\n",
       "      <td>ohc</td>\n",
       "      <td>six</td>\n",
       "      <td>164</td>\n",
       "      <td>121</td>\n",
       "      <td>21</td>\n",
       "      <td>28</td>\n",
       "      <td>21105</td>\n",
       "      <td>0.737805</td>\n",
       "    </tr>\n",
       "    <tr>\n",
       "      <th>4</th>\n",
       "      <td>honda</td>\n",
       "      <td>sedan</td>\n",
       "      <td>fwd</td>\n",
       "      <td>ohc</td>\n",
       "      <td>four</td>\n",
       "      <td>110</td>\n",
       "      <td>86</td>\n",
       "      <td>27</td>\n",
       "      <td>33</td>\n",
       "      <td>8845</td>\n",
       "      <td>0.781818</td>\n",
       "    </tr>\n",
       "    <tr>\n",
       "      <th>...</th>\n",
       "      <td>...</td>\n",
       "      <td>...</td>\n",
       "      <td>...</td>\n",
       "      <td>...</td>\n",
       "      <td>...</td>\n",
       "      <td>...</td>\n",
       "      <td>...</td>\n",
       "      <td>...</td>\n",
       "      <td>...</td>\n",
       "      <td>...</td>\n",
       "      <td>...</td>\n",
       "    </tr>\n",
       "    <tr>\n",
       "      <th>154</th>\n",
       "      <td>toyota</td>\n",
       "      <td>hatchback</td>\n",
       "      <td>fwd</td>\n",
       "      <td>ohc</td>\n",
       "      <td>four</td>\n",
       "      <td>98</td>\n",
       "      <td>70</td>\n",
       "      <td>28</td>\n",
       "      <td>34</td>\n",
       "      <td>8358</td>\n",
       "      <td>0.714286</td>\n",
       "    </tr>\n",
       "    <tr>\n",
       "      <th>155</th>\n",
       "      <td>honda</td>\n",
       "      <td>sedan</td>\n",
       "      <td>fwd</td>\n",
       "      <td>ohc</td>\n",
       "      <td>four</td>\n",
       "      <td>110</td>\n",
       "      <td>101</td>\n",
       "      <td>24</td>\n",
       "      <td>28</td>\n",
       "      <td>12945</td>\n",
       "      <td>0.918182</td>\n",
       "    </tr>\n",
       "    <tr>\n",
       "      <th>156</th>\n",
       "      <td>volvo</td>\n",
       "      <td>sedan</td>\n",
       "      <td>rwd</td>\n",
       "      <td>ohc</td>\n",
       "      <td>six</td>\n",
       "      <td>145</td>\n",
       "      <td>106</td>\n",
       "      <td>26</td>\n",
       "      <td>27</td>\n",
       "      <td>22470</td>\n",
       "      <td>0.731034</td>\n",
       "    </tr>\n",
       "    <tr>\n",
       "      <th>157</th>\n",
       "      <td>toyota</td>\n",
       "      <td>sedan</td>\n",
       "      <td>rwd</td>\n",
       "      <td>ohc</td>\n",
       "      <td>four</td>\n",
       "      <td>98</td>\n",
       "      <td>70</td>\n",
       "      <td>29</td>\n",
       "      <td>34</td>\n",
       "      <td>8058</td>\n",
       "      <td>0.714286</td>\n",
       "    </tr>\n",
       "    <tr>\n",
       "      <th>158</th>\n",
       "      <td>volvo</td>\n",
       "      <td>sedan</td>\n",
       "      <td>rwd</td>\n",
       "      <td>ohc</td>\n",
       "      <td>four</td>\n",
       "      <td>130</td>\n",
       "      <td>162</td>\n",
       "      <td>17</td>\n",
       "      <td>22</td>\n",
       "      <td>18420</td>\n",
       "      <td>1.246154</td>\n",
       "    </tr>\n",
       "  </tbody>\n",
       "</table>\n",
       "<p>159 rows × 11 columns</p>\n",
       "</div>"
      ]
     },
     "execution_count": 136,
     "metadata": {},
     "output_type": "execute_result"
    }
   ],
   "execution_count": 136
  },
  {
   "metadata": {
    "ExecuteTime": {
     "end_time": "2025-03-08T02:31:17.962714Z",
     "start_time": "2025-03-08T02:31:17.951921Z"
    }
   },
   "cell_type": "code",
   "source": [
    "max_he = master_table[\"H/E Ratio\"].idxmax()\n",
    "min_he = master_table[\"H/E Ratio\"].idxmin()\n",
    "display_columns = [\"H/E Ratio\", \"Maker\", \"Body_type\"]\n",
    "\n",
    "# master_table.loc[max_he, display_columns]\n",
    "print(f\"Car with Maximum H/E Ratio \\n\\n{master_table.loc[max_he, display_columns]}\\n\")\n",
    "print(f\"Car with Minimum H/E Ratio \\n\\n{master_table.loc[min_he, display_columns]}\")\n"
   ],
   "id": "a645044a0073318a",
   "outputs": [
    {
     "name": "stdout",
     "output_type": "stream",
     "text": [
      "Car with Maximum H/E Ratio \n",
      "\n",
      "H/E Ratio     1.322314\n",
      "Maker             saab\n",
      "Body_type    hatchback\n",
      "Name: 101, dtype: object\n",
      "\n",
      "Car with Minimum H/E Ratio \n",
      "\n",
      "H/E Ratio    0.509091\n",
      "Maker          toyota\n",
      "Body_type       sedan\n",
      "Name: 2, dtype: object\n"
     ]
    }
   ],
   "execution_count": 137
  },
  {
   "metadata": {
    "ExecuteTime": {
     "end_time": "2025-03-08T02:54:38.212910Z",
     "start_time": "2025-03-08T02:54:38.202995Z"
    }
   },
   "cell_type": "code",
   "source": [
    "table_mask = (master_table[\"City_mpg\"] > 32) & (master_table[\"Highway_mpg\"] > 40)\n",
    "# master_table[table_mask, [\"Maker\", \"Price\"]]\n",
    "filtered_data = master_table[table_mask][[\"Maker\", \"Price\"]]\n",
    "filtered_data"
   ],
   "id": "c042bc4b60f7a450",
   "outputs": [
    {
     "data": {
      "text/plain": [
       "                  Maker  Price\n",
       "Sequence No                   \n",
       "15               toyota   7738\n",
       "25            chevrolet   6575\n",
       "26               toyota   7788\n",
       "60           volkswagen   9495\n",
       "71           volkswagen   7775\n",
       "78                dodge   5572\n",
       "95           volkswagen   7995\n",
       "99            chevrolet   6295\n",
       "102           chevrolet   5151\n",
       "106              nissan   7099\n",
       "128          mitsubishi   5389\n",
       "130               honda   6479\n",
       "140               honda   5399\n",
       "148            plymouth   5572"
      ],
      "text/html": [
       "<div>\n",
       "<style scoped>\n",
       "    .dataframe tbody tr th:only-of-type {\n",
       "        vertical-align: middle;\n",
       "    }\n",
       "\n",
       "    .dataframe tbody tr th {\n",
       "        vertical-align: top;\n",
       "    }\n",
       "\n",
       "    .dataframe thead th {\n",
       "        text-align: right;\n",
       "    }\n",
       "</style>\n",
       "<table border=\"1\" class=\"dataframe\">\n",
       "  <thead>\n",
       "    <tr style=\"text-align: right;\">\n",
       "      <th></th>\n",
       "      <th>Maker</th>\n",
       "      <th>Price</th>\n",
       "    </tr>\n",
       "    <tr>\n",
       "      <th>Sequence No</th>\n",
       "      <th></th>\n",
       "      <th></th>\n",
       "    </tr>\n",
       "  </thead>\n",
       "  <tbody>\n",
       "    <tr>\n",
       "      <th>15</th>\n",
       "      <td>toyota</td>\n",
       "      <td>7738</td>\n",
       "    </tr>\n",
       "    <tr>\n",
       "      <th>25</th>\n",
       "      <td>chevrolet</td>\n",
       "      <td>6575</td>\n",
       "    </tr>\n",
       "    <tr>\n",
       "      <th>26</th>\n",
       "      <td>toyota</td>\n",
       "      <td>7788</td>\n",
       "    </tr>\n",
       "    <tr>\n",
       "      <th>60</th>\n",
       "      <td>volkswagen</td>\n",
       "      <td>9495</td>\n",
       "    </tr>\n",
       "    <tr>\n",
       "      <th>71</th>\n",
       "      <td>volkswagen</td>\n",
       "      <td>7775</td>\n",
       "    </tr>\n",
       "    <tr>\n",
       "      <th>78</th>\n",
       "      <td>dodge</td>\n",
       "      <td>5572</td>\n",
       "    </tr>\n",
       "    <tr>\n",
       "      <th>95</th>\n",
       "      <td>volkswagen</td>\n",
       "      <td>7995</td>\n",
       "    </tr>\n",
       "    <tr>\n",
       "      <th>99</th>\n",
       "      <td>chevrolet</td>\n",
       "      <td>6295</td>\n",
       "    </tr>\n",
       "    <tr>\n",
       "      <th>102</th>\n",
       "      <td>chevrolet</td>\n",
       "      <td>5151</td>\n",
       "    </tr>\n",
       "    <tr>\n",
       "      <th>106</th>\n",
       "      <td>nissan</td>\n",
       "      <td>7099</td>\n",
       "    </tr>\n",
       "    <tr>\n",
       "      <th>128</th>\n",
       "      <td>mitsubishi</td>\n",
       "      <td>5389</td>\n",
       "    </tr>\n",
       "    <tr>\n",
       "      <th>130</th>\n",
       "      <td>honda</td>\n",
       "      <td>6479</td>\n",
       "    </tr>\n",
       "    <tr>\n",
       "      <th>140</th>\n",
       "      <td>honda</td>\n",
       "      <td>5399</td>\n",
       "    </tr>\n",
       "    <tr>\n",
       "      <th>148</th>\n",
       "      <td>plymouth</td>\n",
       "      <td>5572</td>\n",
       "    </tr>\n",
       "  </tbody>\n",
       "</table>\n",
       "</div>"
      ]
     },
     "execution_count": 145,
     "metadata": {},
     "output_type": "execute_result"
    }
   ],
   "execution_count": 145
  },
  {
   "metadata": {
    "ExecuteTime": {
     "end_time": "2025-03-08T02:56:50.940944Z",
     "start_time": "2025-03-08T02:56:50.936825Z"
    }
   },
   "cell_type": "code",
   "source": [
    "average_price = filtered_data[\"Price\"].mean()\n",
    "print(f\"Average price: ${average_price:.2f}\")"
   ],
   "id": "3c463c269f644ef3",
   "outputs": [
    {
     "name": "stdout",
     "output_type": "stream",
     "text": [
      "Average price: 6737.29\n"
     ]
    }
   ],
   "execution_count": 150
  },
  {
   "metadata": {
    "ExecuteTime": {
     "end_time": "2025-03-08T03:03:22.559016Z",
     "start_time": "2025-03-08T03:03:22.553565Z"
    }
   },
   "cell_type": "code",
   "source": [
    "average_price_by_body_type = master_table.groupby(\"Body_type\")[\"Price\"].mean()\n",
    "print(f\"Average price by body type: \\n{average_price_by_body_type.to_string(float_format=\"$%.2f\")}\")"
   ],
   "id": "c06582db6623b2fb",
   "outputs": [
    {
     "name": "stdout",
     "output_type": "stream",
     "text": [
      "Average price by body type: \n",
      "Body_type\n",
      "convertible   $26362.50\n",
      "hardtop       $13142.40\n",
      "hatchback      $9220.16\n",
      "sedan         $12558.62\n",
      "wagon         $11351.41\n"
     ]
    }
   ],
   "execution_count": 158
  },
  {
   "metadata": {
    "ExecuteTime": {
     "end_time": "2025-03-08T02:31:18.295750300Z",
     "start_time": "2025-03-08T02:12:15.415111Z"
    }
   },
   "cell_type": "code",
   "source": [
    "\"\"\"\n",
    "# The cells below are all test scripts to test the quality and functionality of the `read_data` function.\n",
    "\"\"\"\n",
    "def test_read_data():\n",
    "    assert len(read_data(\"../resources/HW2_Sales_Data.csv\")[1:]) == 50\n"
   ],
   "id": "91e82cf0413dd492",
   "outputs": [],
   "execution_count": 86
  },
  {
   "metadata": {
    "ExecuteTime": {
     "end_time": "2025-03-08T02:31:18.307608700Z",
     "start_time": "2025-03-08T02:12:39.084064Z"
    }
   },
   "cell_type": "code",
   "source": "test_read_data()",
   "id": "15c6fc5891d3604e",
   "outputs": [],
   "execution_count": 88
  }
 ],
 "metadata": {
  "kernelspec": {
   "display_name": "Python 3",
   "language": "python",
   "name": "python3"
  },
  "language_info": {
   "codemirror_mode": {
    "name": "ipython",
    "version": 2
   },
   "file_extension": ".py",
   "mimetype": "text/x-python",
   "name": "python",
   "nbconvert_exporter": "python",
   "pygments_lexer": "ipython2",
   "version": "2.7.6"
  }
 },
 "nbformat": 4,
 "nbformat_minor": 5
}
