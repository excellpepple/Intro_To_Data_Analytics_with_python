{
 "cells": [
  {
   "cell_type": "code",
   "execution_count": null,
   "id": "initial_id",
   "metadata": {
    "collapsed": true
   },
   "outputs": [],
   "source": [
    ""
   ]
  },
  {
   "metadata": {},
   "cell_type": "markdown",
   "source": "## Python Basics",
   "id": "ee9bbf959fd3e347"
  },
  {
   "metadata": {},
   "cell_type": "code",
   "outputs": [],
   "execution_count": null,
   "source": [
    "# List Comprehension\n",
    "[x**2 for x in range(10) if x%2==0]\n",
    "\n",
    "# Dict comprehension\n",
    "{k:v for v,k in enumerate(['a','b','c'])}\n",
    "\n",
    "# Lambda\n",
    "f = lambda x: x*2\n",
    "\n",
    "# map/filter\n",
    "list(map(f, [1,2,3]))\n",
    "list(filter(lambda x: x>1, [1,2,3]))\n"
   ],
   "id": "d35d070c98650a90"
  },
  {
   "metadata": {},
   "cell_type": "markdown",
   "source": [
    "✅ 1. MCAR — Missing Completely At Random\n",
    "The missingness is independent of both observed and unobserved data.\n",
    "\n",
    "No systematic pattern: the fact that data is missing has nothing to do with any variables in your dataset.\n",
    "\n",
    "👉 Example: A survey sheet is accidentally lost; any data on that sheet is missing purely by chance.\n",
    "\n",
    "Key point: MCAR is the best-case scenario because the missingness doesn’t bias your analysis.\n",
    "\n",
    "✅ 2. MAR — Missing At Random\n",
    "The missingness is related to observed data but not to the missing data itself.\n",
    "\n",
    "There’s a systematic relationship between missingness and other variables you’ve measured.\n",
    "\n",
    "👉 Example: In a medical study, men are less likely to report weight than women. If you know the gender, you can explain missing weight values.\n",
    "\n",
    "Key point: MAR allows valid imputation using other observed variables.\n",
    "\n",
    "✅ 3. MNAR — Missing Not At Random\n",
    "The missingness is related to the missing values themselves (unobserved data).\n",
    "\n",
    "The reason for missing data is directly tied to the missing value.\n",
    "\n",
    "👉 Example: People with higher incomes are less likely to report their income in a survey because their income is high.\n",
    "\n",
    "Key point: MNAR is the most problematic—you can’t solve it just by looking at observed data; needs special modeling or external info.\n",
    "\n"
   ],
   "id": "f1cfc33d16c1f06e"
  },
  {
   "metadata": {},
   "cell_type": "markdown",
   "source": [
    "## 📝 Summary of Imputation Techniques\n",
    "\n",
    "| Technique                  | How it works                                       | Best used when...                               | Pros                                  | Cons                              |\n",
    "|---------------------------|---------------------------------------------------|------------------------------------------------|-------------------------------------|-----------------------------------|\n",
    "| **Mean Imputation**        | Replace missing value with column mean             | Data is **normally distributed** (no skew)     | Simple, fast                         | Reduces variance, ignores relation|\n",
    "| **Median Imputation**      | Replace missing value with column median           | Data is **skewed or has outliers**             | Robust to outliers                   | Ignores relation between features |\n",
    "| **Mode Imputation**        | Replace missing categorical value with most common | Categorical data, **balanced classes**         | Works for categorical                | Biased if class imbalance exists  |\n",
    "| **Forward Fill (ffill)**   | Fill missing value with last valid observation     | **Time-series data** where prev value matters   | Preserves trends                     | Bad if sudden changes happen      |\n",
    "| **Backward Fill (bfill)**  | Fill missing value with next valid observation     | **Time-series data**                          | Similar to ffill                     | Can propagate incorrect values    |\n",
    "| **Interpolation**          | Estimate missing values between known points       | **Continuous, ordered data**                   | Fills gaps smoothly                  | Bad for categorical data          |\n",
    "| **KNN Imputation**         | Use **k-nearest neighbors** to estimate missing    | Missing depends on other variables (MAR)        | Captures feature relationships       | Slow for large data               |\n",
    "| **Multivariate Imputation (MICE)** | Iteratively predicts missing using other variables | **Multiple variables missing, MAR**        | Best statistical validity            | Complex, computationally expensive|\n",
    "| **Random Sample Imputation** | Replace missing with random sample from column    | Data is **MCAR (Missing Completely At Random)** | Preserves variance                   | Adds randomness (noise)           |\n",
    "\n",
    "---\n",
    "\n",
    "## 🟢 General Recommendations:\n",
    "✅ If **MCAR →** can safely drop rows or use random/mean imputation\n",
    "✅ If **MAR →** use KNN, regression, MICE to use other features\n",
    "✅ If **MNAR →** you need external info; imputation may **bias results**\n",
    "\n",
    "---\n",
    "\n",
    "### 🚩 Rule of Thumb:\n",
    "- **Numerical, normal data → mean imputation**\n",
    "- **Numerical, skewed data → median**\n",
    "- **Categorical → mode**\n",
    "- **Time-series → ffill or interpolation**\n",
    "- **Data missing related to other vars → KNN or MICE**\n"
   ],
   "id": "ab55487bce43711d"
  },
  {
   "metadata": {},
   "cell_type": "code",
   "outputs": [],
   "execution_count": null,
   "source": "",
   "id": "1b4591649e6e680b"
  }
 ],
 "metadata": {
  "kernelspec": {
   "display_name": "Python 3",
   "language": "python",
   "name": "python3"
  },
  "language_info": {
   "codemirror_mode": {
    "name": "ipython",
    "version": 2
   },
   "file_extension": ".py",
   "mimetype": "text/x-python",
   "name": "python",
   "nbconvert_exporter": "python",
   "pygments_lexer": "ipython2",
   "version": "2.7.6"
  }
 },
 "nbformat": 4,
 "nbformat_minor": 5
}
