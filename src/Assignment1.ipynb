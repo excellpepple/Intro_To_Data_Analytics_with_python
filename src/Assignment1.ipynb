{
 "cells": [
  {
   "metadata": {},
   "cell_type": "code",
   "outputs": [],
   "execution_count": null,
   "source": [
    "\"\"\"\n",
    ":author: Excellent Willie-Pepple\n",
    ":date: 2025-02-1\n",
    ":title: Data Analysis with Python - Assignment 1\n",
    ":description: This script reads a CSV file containing sales data, prints the first five rows, calculates and prints the total revenue and average cost per order, along with other features found in the readme.md.\n",
    ":linkedin: https://www.linkedin.com/in/excell-pepple/\n",
    "\"\"\""
   ],
   "id": "a6c07c4b9f12a5a6"
  },
  {
   "metadata": {
    "collapsed": true,
    "ExecuteTime": {
     "end_time": "2025-02-02T00:31:07.567650Z",
     "start_time": "2025-02-02T00:31:07.556649Z"
    }
   },
   "cell_type": "code",
   "outputs": [],
   "execution_count": 601,
   "source": [
    "def read_data(file_name: str):\n",
    "    \"\"\"\n",
    "    Read data from a csv file.\n",
    "\n",
    "    :param file_name: Name of the csv file.\n",
    "    :return: A list of lists where each inner list represents a row from the csv file.\n",
    "    \"\"\"\n",
    "    with open(file_name, encoding=\"utf-8\") as f:\n",
    "        lines = f.readlines()\n",
    "        return lines"
   ],
   "id": "initial_id"
  },
  {
   "metadata": {
    "ExecuteTime": {
     "end_time": "2025-02-02T00:31:07.629235Z",
     "start_time": "2025-02-02T00:31:07.611061Z"
    }
   },
   "cell_type": "code",
   "source": [
    "def print_head(data:[str]):\n",
    "    \"\"\"\n",
    "    Print the first five rows of a list.\n",
    "\n",
    "    :param data: The list to print data from.\n",
    "    \"\"\"\n",
    "    for row in data[1:6]:\n",
    "        #divides the line into a list based on the comma separated string\n",
    "        row_data = row.split(\",\")\n",
    "        #extract the data\n",
    "        order_id = int(row_data[0])\n",
    "        category_id = int(row_data[1])\n",
    "        price = float(row_data[2])\n",
    "        quantity = int(row_data[3])\n",
    "        payment = int(row_data[4])\n",
    "        age = int(row_data[5])\n",
    "        gender = int(row_data[6])\n",
    "        #format the row and print it to the console\n",
    "        formated_row = f\"Order ID: {order_id}, Category ID: {category_id}, Price: ${price:.2f}, Quantity: {quantity}, Payment Method: {payment}, Age: {age}, Gender: {gender}\"\n",
    "        print(formated_row)"
   ],
   "id": "f9f401fe07c6ee79",
   "outputs": [],
   "execution_count": 602
  },
  {
   "metadata": {
    "ExecuteTime": {
     "end_time": "2025-02-02T00:31:07.660567Z",
     "start_time": "2025-02-02T00:31:07.646726Z"
    }
   },
   "cell_type": "code",
   "source": [
    "def key_metrics(data:[]):\n",
    "    \"\"\"\n",
    "    Calculate and print the total revenue and average cost per order from the sales data.\n",
    "\n",
    "    :param data: The sales data as a list of lists.\n",
    "    \"\"\"\n",
    "    row_data = [row.split(',') for row in data[1:]]\n",
    "    total_revenue = sum((float(row[2]) * int(row[3])) for row in row_data)\n",
    "    average_cost_per_order = total_revenue / len(row_data)\n",
    "\n",
    "    # print the results to the console\n",
    "    print(\"Key Sales Metrics\")\n",
    "    print(f\"Total Revenue: ${total_revenue:.2f}\\nAverage Cost Per Order: ${average_cost_per_order:.2f}\")"
   ],
   "id": "f988a84be41588dc",
   "outputs": [],
   "execution_count": 603
  },
  {
   "metadata": {
    "ExecuteTime": {
     "end_time": "2025-02-02T00:31:07.690664Z",
     "start_time": "2025-02-02T00:31:07.676625Z"
    }
   },
   "cell_type": "code",
   "source": [
    "# TODO: Ask prof kim if we should use filter method or create our own\n",
    "def filter_data_by_price(data:[], price:float):\n",
    "    \"\"\"\n",
    "    Filter sales data by price and return a new list containing only the rows that meet the condition.\n",
    "\n",
    "    :param data: The sales data as a list of lists.\n",
    "    :param price: The minimum price threshold.\n",
    "    :return: A new list containing only the rows that meet the price condition.\n",
    "    \"\"\"\n",
    "    # extract the data from the list\n",
    "    row_data = [row.split(',') for row in data[1:]]\n",
    "    # filter the data based on the price condition and create a new list of rows that meet the condition\n",
    "    filtered_data = [row for row in row_data[1:] if float(row[2]) >= price]\n",
    "\n",
    "    # print the results to the console\n",
    "    formatted_data = f\"Order ID and Items Priced > ${price:.2f}\\n\"\n",
    "    for row in filtered_data:\n",
    "        formatted_data += f\"Order ID: {row[0]}, Price: ${float(row[2]):.2f}\\n\"\n",
    "    print(formatted_data)"
   ],
   "id": "866ecb047afc4094",
   "outputs": [],
   "execution_count": 604
  },
  {
   "metadata": {
    "ExecuteTime": {
     "end_time": "2025-02-02T00:31:07.721534Z",
     "start_time": "2025-02-02T00:31:07.708388Z"
    }
   },
   "cell_type": "code",
   "source": [
    "def gender_based_order(data:[]):\n",
    "    \"\"\"\n",
    "    Calculate and print the number of female and male orders.\n",
    "\n",
    "    :param data: The sales data as a list of lists.\n",
    "    \"\"\"\n",
    "    #extract the data from the list\n",
    "    row_data = [row.split(',') for row in data[1:]]\n",
    "    # calculate the number of female and male orders using list comprehension and sum function\n",
    "    male_orders = sum(1 for row in row_data if row[6].strip() == \"2\")\n",
    "    female_orders = sum(1 for row in row_data if row[6].strip() == \"1\")\n",
    "    # print the results to the console\n",
    "    print(\"Gender Based Order Analysis\")\n",
    "    print(f\"Female Orders: {female_orders}\")\n",
    "    print(f\"Male Orders: {male_orders}\")"
   ],
   "id": "e19cf231daf3a8ab",
   "outputs": [],
   "execution_count": 605
  },
  {
   "metadata": {
    "ExecuteTime": {
     "end_time": "2025-02-02T00:31:07.752126Z",
     "start_time": "2025-02-02T00:31:07.737615Z"
    }
   },
   "cell_type": "code",
   "source": "data = read_data(\"../resources/sale_data.csv\")",
   "id": "b620bcafb48ddce4",
   "outputs": [],
   "execution_count": 606
  },
  {
   "metadata": {
    "ExecuteTime": {
     "end_time": "2025-02-02T00:31:07.783643Z",
     "start_time": "2025-02-02T00:31:07.769638Z"
    }
   },
   "cell_type": "code",
   "source": [
    "#data?\n",
    "print_head(data)"
   ],
   "id": "f331af5fd6826915",
   "outputs": [
    {
     "name": "stdout",
     "output_type": "stream",
     "text": [
      "Order ID: 1, Category ID: 4, Price: $15.06, Quantity: 7, Payment Method: 2, Age: 24, Gender: 1\n",
      "Order ID: 2, Category ID: 1, Price: $15.98, Quantity: 17, Payment Method: 2, Age: 22, Gender: 1\n",
      "Order ID: 3, Category ID: 4, Price: $15.76, Quantity: 3, Payment Method: 2, Age: 20, Gender: 2\n",
      "Order ID: 4, Category ID: 1, Price: $6.04, Quantity: 14, Payment Method: 2, Age: 20, Gender: 1\n",
      "Order ID: 5, Category ID: 1, Price: $20.66, Quantity: 9, Payment Method: 2, Age: 21, Gender: 1\n"
     ]
    }
   ],
   "execution_count": 607
  },
  {
   "metadata": {
    "ExecuteTime": {
     "end_time": "2025-02-02T00:31:07.813745Z",
     "start_time": "2025-02-02T00:31:07.800743Z"
    }
   },
   "cell_type": "code",
   "source": "key_metrics(data)",
   "id": "23b9bd8ad1924aec",
   "outputs": [
    {
     "name": "stdout",
     "output_type": "stream",
     "text": [
      "Key Sales Metrics\n",
      "Total Revenue: $16395.78\n",
      "Average Cost Per Order: $163.96\n"
     ]
    }
   ],
   "execution_count": 608
  },
  {
   "metadata": {
    "ExecuteTime": {
     "end_time": "2025-02-02T00:31:07.845587Z",
     "start_time": "2025-02-02T00:31:07.832506Z"
    }
   },
   "cell_type": "code",
   "source": "filter_data_by_price(data, 30)",
   "id": "aebc996177df7e1b",
   "outputs": [
    {
     "name": "stdout",
     "output_type": "stream",
     "text": [
      "Order ID and Items Priced > $30.00\n",
      "Order ID: 8, Price: $31.78\n",
      "Order ID: 18, Price: $33.79\n",
      "Order ID: 20, Price: $32.27\n",
      "Order ID: 21, Price: $31.97\n",
      "Order ID: 29, Price: $34.33\n",
      "Order ID: 39, Price: $34.00\n",
      "Order ID: 41, Price: $34.66\n",
      "Order ID: 48, Price: $30.79\n",
      "Order ID: 49, Price: $30.86\n",
      "Order ID: 56, Price: $34.96\n",
      "Order ID: 66, Price: $31.49\n",
      "Order ID: 76, Price: $34.04\n",
      "\n"
     ]
    }
   ],
   "execution_count": 609
  },
  {
   "metadata": {
    "ExecuteTime": {
     "end_time": "2025-02-02T00:31:07.877590Z",
     "start_time": "2025-02-02T00:31:07.864588Z"
    }
   },
   "cell_type": "code",
   "source": "gender_based_order(data)",
   "id": "532e89ced89c8be9",
   "outputs": [
    {
     "name": "stdout",
     "output_type": "stream",
     "text": [
      "Gender Based Order Analysis\n",
      "Female Orders: 44\n",
      "Male Orders: 55\n"
     ]
    }
   ],
   "execution_count": 610
  },
  {
   "metadata": {
    "ExecuteTime": {
     "end_time": "2025-02-02T00:31:07.909589Z",
     "start_time": "2025-02-02T00:31:07.896587Z"
    }
   },
   "cell_type": "code",
   "source": [
    "row_data = [row.split(',') for row in data[1:]]\n",
    "\"\"\"\n",
    "lambda function that calculates the\n",
    "percentage of orders made with a specific payment method\n",
    ":param payment_method: takes in a string representing the payment method (\"1\" for credit card and \"2\" for digital wallet\n",
    ":return: a float representing the percentage of orders made with the specified payment method\n",
    "\"\"\"\n",
    "payment_ratio = lambda payment_method: ((sum(1 for row in row_data if row[4].strip() == payment_method)) / len(row_data)) * 100\n"
   ],
   "id": "cfb13cb5b9ea2efb",
   "outputs": [],
   "execution_count": 611
  },
  {
   "metadata": {
    "ExecuteTime": {
     "end_time": "2025-02-02T00:31:07.939700Z",
     "start_time": "2025-02-02T00:31:07.926645Z"
    }
   },
   "cell_type": "code",
   "source": [
    "print(\"Payment Method Analysis\")\n",
    "print(f\"Credit Card Orders: {payment_ratio('1'):.1f}%\")\n",
    "print(f\"Digital Wallet Orders: {payment_ratio('2'):.1f}%\")"
   ],
   "id": "47cd8fe217e0129c",
   "outputs": [
    {
     "name": "stdout",
     "output_type": "stream",
     "text": [
      "Payment Method Analysis\n",
      "Credit Card Orders: 43.0%\n",
      "Digital Wallet Orders: 57.0%\n"
     ]
    }
   ],
   "execution_count": 612
  },
  {
   "metadata": {
    "ExecuteTime": {
     "end_time": "2025-02-02T00:31:07.970698Z",
     "start_time": "2025-02-02T00:31:07.957699Z"
    }
   },
   "cell_type": "code",
   "source": [
    "# Define a structure to make it easier to store the values for popular categories\n",
    "popular_category = {\"id\": 0, \"revenue\": 0.00, \"percentage\": 0.0 }\n",
    "\n",
    "def analyze_category(price:float, quantity:int, category_id: int):\n",
    "    \"\"\"\n",
    "    Calculates and prints the number of orders, total revenue, and percentage of revenue for a specific category.\n",
    "\n",
    "    :param price: The total price of orders for the category.\n",
    "    :param quantity: The total quantity of orders for the category.\n",
    "    :param category_id: The unique identifier for the category.\n",
    "    \"\"\"\n",
    "    # Get the total revenue for all the data points\n",
    "    total_revenue = sum((float(row[2]) * int(row[3])) for row in row_data)\n",
    "    # Calculate the percentage of revenue for the specific category\n",
    "    revenue_percentage = (price/total_revenue) * 100\n",
    "    # Update the popular category if the current category has more revenue percentage than the previous one\n",
    "    if revenue_percentage > popular_category[\"percentage\"]:\n",
    "        popular_category[\"id\"] = category_id\n",
    "        popular_category[\"revenue\"] = price\n",
    "        popular_category[\"percentage\"] = revenue_percentage\n",
    "    # format the data for readability\n",
    "    formatted_string = f\"\\tCategory {category_id}:\\n\\t\\tNumber of Orders: {quantity}\\n\\t\\tTotal Revenue: ${(price):.2f}\\n\\t\\tPercentage of Revenue: {revenue_percentage:.2f}%\\n\"\n",
    "    return formatted_string\n",
    "\n",
    "# Write to the output file\n",
    "with open(\"../output/category_analysis.txt\", encoding=\"utf-8\", mode=\"w\") as f:\n",
    "    f.write(\"Category Statistics\\n\")\n",
    "    # for each category generate the statistics and add them to the output file\n",
    "    for id in range(1, 7):\n",
    "        # create a new list of data that belongs to the category by its id\n",
    "        category_data = list(filter(lambda x: int(x[1]) == id, row_data))\n",
    "        # calculate the total price and total quantity of orders made for the category\n",
    "        total_price = sum(float(x[2]) * int(x[3]) for x in category_data)\n",
    "        total_quantity_of_orders_made = len(category_data)\n",
    "        # write the statistics to the output file and calculate the most commonly purchased category\n",
    "        new_line = analyze_category(total_price, total_quantity_of_orders_made, id)\n",
    "        f.write(new_line)\n",
    "        f.write(\"\\n\")\n",
    "    # Write the data for the most popular category\n",
    "    f.write(f\"\"\"Most commonly purchased category: {popular_category[\"id\"]}, Total revenue: ${popular_category[\"revenue\"]:.2f}\"\"\")\n"
   ],
   "id": "15abee23376def40",
   "outputs": [],
   "execution_count": 613
  },
  {
   "metadata": {
    "ExecuteTime": {
     "end_time": "2025-02-02T00:31:08.001699Z",
     "start_time": "2025-02-02T00:31:07.987699Z"
    }
   },
   "cell_type": "code",
   "source": [
    "def find_max_value(in_list: []):\n",
    "    # returns the maximum value in a list using Python's built-in max function.'\n",
    "    return max(in_list)\n",
    "\n",
    "def find_min_value(in_list: []):\n",
    "    # returns the minimum value in a list using Python's built-in min function.'\n",
    "    return min(in_list)\n",
    "\n",
    "def find_average(in_list: []):\n",
    "    # returns the average value in a list using Python's built-in sum and len functions.'\n",
    "    return sum(in_list) / len(in_list)\n",
    "\n",
    "def run_facts(in_list:[], func_array):\n",
    "    # applies a given list of functions to the input list and returns the results.\n",
    "    results = [func(in_list) for func in func_array]\n",
    "    return results"
   ],
   "id": "bc538b844ca78be8",
   "outputs": [],
   "execution_count": 614
  },
  {
   "metadata": {
    "ExecuteTime": {
     "end_time": "2025-02-02T00:31:08.031706Z",
     "start_time": "2025-02-02T00:31:08.019707Z"
    }
   },
   "cell_type": "code",
   "source": [
    "function_array = [find_max_value, find_min_value, find_average]\n",
    "# creates the sample list by iterating over the price from the row_data\n",
    "sample_data = [float(x[2]) for x in row_data]\n",
    "# evaluates the sample data using the defined functions and prints the results.\n",
    "function_evaluation = run_facts(sample_data, function_array)\n",
    "print(f\"Max = {function_evaluation[0]:.2f}, Min = {function_evaluation[1]:.2f}, Average = {function_evaluation[2]:.2f}\")"
   ],
   "id": "590f30bde63a8c45",
   "outputs": [
    {
     "name": "stdout",
     "output_type": "stream",
     "text": [
      "Max = 34.96, Min = 2.28, Average = 17.07\n"
     ]
    }
   ],
   "execution_count": 615
  }
 ],
 "metadata": {
  "kernelspec": {
   "display_name": "Python 3",
   "language": "python",
   "name": "python3"
  },
  "language_info": {
   "codemirror_mode": {
    "name": "ipython",
    "version": 2
   },
   "file_extension": ".py",
   "mimetype": "text/x-python",
   "name": "python",
   "nbconvert_exporter": "python",
   "pygments_lexer": "ipython2",
   "version": "2.7.6"
  }
 },
 "nbformat": 4,
 "nbformat_minor": 5
}
